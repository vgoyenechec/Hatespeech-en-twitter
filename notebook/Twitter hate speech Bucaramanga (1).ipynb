{
 "cells": [
  {
   "cell_type": "markdown",
   "metadata": {},
   "source": [
    "<img src=\"../imgs/head.png\" style=\"width:1000px;\">\n",
    "\n",
    "# <center> Detección de Hate Speech en Twitter </center>"
   ]
  },
  {
   "cell_type": "code",
   "execution_count": 18,
   "metadata": {},
   "outputs": [],
   "source": [
    "import numpy as np\n",
    "import pandas as pd\n",
    "import matplotlib.pyplot as plt\n",
    "from sklearn.model_selection import KFold\n",
    "from sklearn.metrics import *\n",
    "from sklearn import svm\n",
    "from sklearn.multiclass import OneVsRestClassifier\n",
    "import re, nltk\n",
    "from nltk.stem import WordNetLemmatizer\n",
    "from nltk.corpus import stopwords\n",
    "\n",
    "\n",
    "%matplotlib inline"
   ]
  },
  {
   "cell_type": "markdown",
   "metadata": {},
   "source": [
    "## <center> Dataset </center>"
   ]
  },
  {
   "cell_type": "code",
   "execution_count": 39,
   "metadata": {},
   "outputs": [],
   "source": [
    "import pandas as pd\n",
    "import tweepy\n",
    "import jsonpickle\n",
    "def tweets_to_df(path):\n",
    "    \n",
    "    tweets = list(open(path, 'rt'))\n",
    "    \n",
    "    text = []\n",
    "    weekday = []\n",
    "    month = []\n",
    "    day = []\n",
    "    hour = []\n",
    "    hashtag = []\n",
    "    url = []\n",
    "    favorite = []\n",
    "    reply = []\n",
    "    retweet = []\n",
    "    follower = []\n",
    "    following = []\n",
    "    user = []\n",
    "    screen_name = []\n",
    "    idrtw=[]\n",
    "\n",
    "    for t in tweets:\n",
    "        t = jsonpickle.decode(t)\n",
    "        \n",
    "        # Text\n",
    "        text.append(t['full_text'])\n",
    "        \n",
    "        idrtw.append(t['id'])\n",
    "        \n",
    "        # Decompose date\n",
    "        date = t['created_at']\n",
    "        weekday.append(date.split(' ')[0])\n",
    "        month.append(date.split(' ')[1])\n",
    "        day.append(date.split(' ')[2])\n",
    "        \n",
    "        time = date.split(' ')[3].split(':')\n",
    "        hour.append(time[0]) \n",
    "        \n",
    "        # Has hashtag\n",
    "        if len(t['entities']['hashtags']) == 0:\n",
    "            hashtag.append(0)\n",
    "        else:\n",
    "            hashtag.append(1)\n",
    "            \n",
    "        # Has url\n",
    "        if len(t['entities']['urls']) == 0:\n",
    "            url.append(0)\n",
    "        else:\n",
    "            url.append(1)\n",
    "            \n",
    "        # Number of favs\n",
    "        favorite.append(t['favorite_count'])\n",
    "        \n",
    "        # Is reply?\n",
    "        if t['in_reply_to_status_id'] == None:\n",
    "            reply.append(0)\n",
    "        else:\n",
    "            reply.append(1)       \n",
    "        \n",
    "        # Retweets count\n",
    "        retweet.append(t['retweet_count'])\n",
    "        \n",
    "        # Followers number\n",
    "        follower.append(t['user']['followers_count'])\n",
    "        \n",
    "        # Following number\n",
    "        following.append(t['user']['friends_count'])\n",
    "        \n",
    "        # Add user\n",
    "        user.append(t['user']['name'])\n",
    "\n",
    "        # Add screen name\n",
    "        screen_name.append(t['user']['screen_name'])\n",
    "        \n",
    "    d = {'text': text,\n",
    "         'weekday': weekday,\n",
    "         'month' : month,\n",
    "         'day': day,\n",
    "         'hour' : hour,\n",
    "         'has_hashtag': hashtag,\n",
    "         'has_url': url,\n",
    "         'fav_count': favorite,\n",
    "         'is_reply': reply,\n",
    "         'retweet_count': retweet,\n",
    "         'followers': follower,\n",
    "         'following' : following,\n",
    "         'user': user,\n",
    "         'screen_name' : screen_name,\n",
    "         'id' : idrtw\n",
    "        }\n",
    "    \n",
    "    return pd.DataFrame(data = d)\n",
    "\n"
   ]
  },
  {
   "cell_type": "code",
   "execution_count": 40,
   "metadata": {},
   "outputs": [],
   "source": [
    "buc1 = tweets_to_df('bucaramanga1.json')\n",
    "buc2 = tweets_to_df('bucaramanga2.json')"
   ]
  },
  {
   "cell_type": "code",
   "execution_count": 41,
   "metadata": {},
   "outputs": [],
   "source": [
    "PP = pd.concat([buc1, buc2])"
   ]
  },
  {
   "cell_type": "code",
   "execution_count": 45,
   "metadata": {},
   "outputs": [
    {
     "name": "stdout",
     "output_type": "stream",
     "text": [
      "(2381, 1)\n"
     ]
    },
    {
     "data": {
      "text/html": [
       "<div>\n",
       "<style scoped>\n",
       "    .dataframe tbody tr th:only-of-type {\n",
       "        vertical-align: middle;\n",
       "    }\n",
       "\n",
       "    .dataframe tbody tr th {\n",
       "        vertical-align: top;\n",
       "    }\n",
       "\n",
       "    .dataframe thead th {\n",
       "        text-align: right;\n",
       "    }\n",
       "</style>\n",
       "<table border=\"1\" class=\"dataframe\">\n",
       "  <thead>\n",
       "    <tr style=\"text-align: right;\">\n",
       "      <th></th>\n",
       "      <th>text</th>\n",
       "    </tr>\n",
       "  </thead>\n",
       "  <tbody>\n",
       "    <tr>\n",
       "      <th>0</th>\n",
       "      <td>¿Por qué el Dx no se hace solo, o porque la propuesta de intervención no se plantea solita? \\nTodo le toca a uno que gonorrea.</td>\n",
       "    </tr>\n",
       "    <tr>\n",
       "      <th>1</th>\n",
       "      <td>RT @juanppitas: qué gonorrea este semestre</td>\n",
       "    </tr>\n",
       "    <tr>\n",
       "      <th>2</th>\n",
       "      <td>Neas, que gonorrea estar con gripe y final de semestre, eso no es de Diosito.</td>\n",
       "    </tr>\n",
       "    <tr>\n",
       "      <th>3</th>\n",
       "      <td>Bueno va tocar silenciar el nombre del paraco, porque ya me tienen harto con ese temita</td>\n",
       "    </tr>\n",
       "    <tr>\n",
       "      <th>4</th>\n",
       "      <td>@petoricomelao2 @AndreaRamirezA_ Hágale hpta pero a puños como los hombres gonorrea</td>\n",
       "    </tr>\n",
       "  </tbody>\n",
       "</table>\n",
       "</div>"
      ],
      "text/plain": [
       "                                                                                                                             text\n",
       "0  ¿Por qué el Dx no se hace solo, o porque la propuesta de intervención no se plantea solita? \\nTodo le toca a uno que gonorrea.\n",
       "1  RT @juanppitas: qué gonorrea este semestre                                                                                    \n",
       "2  Neas, que gonorrea estar con gripe y final de semestre, eso no es de Diosito.                                                 \n",
       "3  Bueno va tocar silenciar el nombre del paraco, porque ya me tienen harto con ese temita                                       \n",
       "4  @petoricomelao2 @AndreaRamirezA_ Hágale hpta pero a puños como los hombres gonorrea                                           "
      ]
     },
     "execution_count": 45,
     "metadata": {},
     "output_type": "execute_result"
    }
   ],
   "source": [
    "df=pd.DataFrame({'text':PP.iloc[:,0]})\n",
    "pd.set_option('display.max_colwidth', -1)\n",
    "print(df.shape)\n",
    "df.head()"
   ]
  },
  {
   "cell_type": "markdown",
   "metadata": {},
   "source": [
    "## <center> Preprocesamiento de los datos </center>"
   ]
  },
  {
   "cell_type": "markdown",
   "metadata": {},
   "source": [
    "<img src=\"../imgs/preprocessing.png\" style=\"width:800px;\">"
   ]
  },
  {
   "cell_type": "markdown",
   "metadata": {},
   "source": [
    "### Eliminación de ruido"
   ]
  },
  {
   "cell_type": "code",
   "execution_count": 23,
   "metadata": {},
   "outputs": [],
   "source": [
    "import unicodedata\n",
    "def remove_accents(string, accents=('COMBINING ACUTE ACCENT', 'COMBINING GRAVE ACCENT')):\n",
    "    accents = set(map(unicodedata.lookup, accents))\n",
    "    chars = [c for c in unicodedata.normalize('NFD', string) if c not in accents]\n",
    "    return unicodedata.normalize('NFC', ''.join(chars))"
   ]
  },
  {
   "cell_type": "code",
   "execution_count": 7,
   "metadata": {},
   "outputs": [],
   "source": [
    "#noacentos=pd.Series([remove_accents(i) for i in df['text']])\n",
    "dfna=pd.DataFrame({'text':[remove_accents(i) for i in df['text']]})"
   ]
  },
  {
   "cell_type": "code",
   "execution_count": 8,
   "metadata": {},
   "outputs": [],
   "source": [
    "##preprocesamiento del dataset original\n",
    "clean1 = dfna[\"text\"].str.replace((r'@[\\w]*'), '')\n",
    "clean2 = clean1.str.replace(r'RT', '')\n",
    "clean = clean2.str.replace(r'[^a-zA-Z +^'']', '')\n"
   ]
  },
  {
   "cell_type": "markdown",
   "metadata": {},
   "source": [
    "### Tokenización"
   ]
  },
  {
   "cell_type": "markdown",
   "metadata": {},
   "source": [
    "La tokenización es el paso en el que se divide cadenas de texto más largas en piezas más pequeñas o tokens. "
   ]
  },
  {
   "cell_type": "code",
   "execution_count": 9,
   "metadata": {},
   "outputs": [],
   "source": [
    "tokens = []\n",
    "for i in clean:\n",
    "    tokens.append(nltk.word_tokenize(i))\n",
    "    "
   ]
  },
  {
   "cell_type": "markdown",
   "metadata": {},
   "source": [
    "### Eliminación de stopwords"
   ]
  },
  {
   "cell_type": "code",
   "execution_count": 10,
   "metadata": {},
   "outputs": [],
   "source": [
    "stop_words= set(stopwords.words('spanish'))\n",
    "wordnet_lemmatizer = WordNetLemmatizer()\n",
    "\n",
    "lower_case = [[x.casefold() for x in sublst] for sublst in tokens]\n",
    "cleanTweets = [[wordsub for wordsub in word if wordsub not in stop_words] for word in lower_case]\n"
   ]
  },
  {
   "cell_type": "code",
   "execution_count": 245,
   "metadata": {},
   "outputs": [],
   "source": [
    "from scipy.sparse import hstack\n",
    "from sklearn.feature_extraction.text import CountVectorizer, TfidfVectorizer\n",
    "\n",
    "tfidf_vectorizer = TfidfVectorizer(ngram_range=(1,2), stop_words=stop_words)\n",
    "count_vectorizer = CountVectorizer(ngram_range=(1,2))"
   ]
  },
  {
   "cell_type": "code",
   "execution_count": 16,
   "metadata": {},
   "outputs": [
    {
     "name": "stdout",
     "output_type": "stream",
     "text": [
      "[' jajajaja arepera ridicula', '  Mi primo de tres aosYo Di Uribe paraco hijueputa httpstcoZngVGMl', '   Otra prepago uribestia', '  Y este mamerto esta que salta porque se quedo sin mermelada Santos no volvera a la presidencia  asi que siga llorando', ' Lo unico que me preocupa es que se le haya mostrado la cara a algunas personas que fueron a decirle sus verdades al enano paraco', ' Sin vergenzasapatridaslame culos', ' Roy Barreras hablando de buen ejemplo es como si Garabito hablara del buen cuidado de los nios en esa imagen que muestra ademas de ser bien antigua se ve que hace falta una parte de la conversacion como siempre politiquero El camaleon Roy', 'Ya tu no me habla y yo no se que hacer mi conciencia me dice que tu no va a volver Jueputa anuel malparido lo amo jaja', '   Lo unico que me preocupa es que se le haya mostrado la cara a algunas personas que fueron a decirle sus v', ' Claro cerdo malparido como no fue ni su hijo ni su padre ni su hermano le vale mierda la vida de los dos vagos esos Que pais de mierda donde normalizan la muerte']\n"
     ]
    }
   ],
   "source": [
    "indx = np.random.randint(df.shape[0], size=10)\n",
    "rand = []\n",
    "clases = []\n",
    "for i in indx:\n",
    "    rand.append(clean[i])\n",
    "    clases.append(df['text'][i])\n",
    "print(rand)"
   ]
  },
  {
   "cell_type": "code",
   "execution_count": 17,
   "metadata": {},
   "outputs": [
    {
     "name": "stdout",
     "output_type": "stream",
     "text": [
      " jajajaja arepera ridicula \n",
      "    Otra prepago uribestia\n",
      "[[0.4472136  0.4472136  0.4472136  0.4472136  0.         0.\n",
      "  0.4472136  0.        ]\n",
      " [0.         0.         0.         0.         0.57735027 0.57735027\n",
      "  0.         0.57735027]]\n"
     ]
    }
   ],
   "source": [
    "from scipy.sparse import hstack\n",
    "from sklearn.feature_extraction.text import TfidfVectorizer\n",
    "\n",
    "tfidf_vectorizer = TfidfVectorizer(ngram_range=(1,2), stop_words=stop_words)\n",
    "tfidf_prueba = tfidf_vectorizer.fit_transform((rand[0], rand[2]))\n",
    "print(rand[0], '\\n', rand[2])\n",
    "print(tfidf_prueba.toarray())"
   ]
  },
  {
   "cell_type": "markdown",
   "metadata": {},
   "source": [
    "### CountVectorizer"
   ]
  },
  {
   "cell_type": "code",
   "execution_count": 246,
   "metadata": {},
   "outputs": [],
   "source": [
    "vectorized_data = count_vectorizer.fit_transform(clean)\n",
    "#indexed_data = hstack((np.array(range(0,vectorized_data.shape[0]))[:,None], vectorized_data))\n"
   ]
  },
  {
   "cell_type": "markdown",
   "metadata": {},
   "source": [
    "### Clasificación no supervisada"
   ]
  },
  {
   "cell_type": "code",
   "execution_count": 247,
   "metadata": {},
   "outputs": [
    {
     "data": {
      "text/plain": [
       "KMeans(algorithm='auto', copy_x=True, init='k-means++', max_iter=300,\n",
       "    n_clusters=3, n_init=30, n_jobs=1, precompute_distances='auto',\n",
       "    random_state=None, tol=0.0001, verbose=0)"
      ]
     },
     "execution_count": 247,
     "metadata": {},
     "output_type": "execute_result"
    }
   ],
   "source": [
    "from sklearn.cluster import KMeans \n",
    "kmeans = KMeans(n_clusters=3, n_init=30)  \n",
    "kmeans.fit(vectorized_data) "
   ]
  },
  {
   "cell_type": "code",
   "execution_count": 248,
   "metadata": {},
   "outputs": [
    {
     "data": {
      "text/plain": [
       "array([0, 2, 0, ..., 0, 0, 0], dtype=int32)"
      ]
     },
     "execution_count": 248,
     "metadata": {},
     "output_type": "execute_result"
    }
   ],
   "source": [
    "est=kmeans.predict(vectorized_data)\n",
    "est"
   ]
  },
  {
   "cell_type": "code",
   "execution_count": 249,
   "metadata": {},
   "outputs": [
    {
     "data": {
      "text/plain": [
       "111"
      ]
     },
     "execution_count": 249,
     "metadata": {},
     "output_type": "execute_result"
    }
   ],
   "source": [
    "nosup = pd.DataFrame({'cluster':est,'tweet':clean})\n",
    "sum(1*(nosup['cluster']==2))"
   ]
  },
  {
   "cell_type": "code",
   "execution_count": 268,
   "metadata": {},
   "outputs": [
    {
     "data": {
      "text/html": [
       "<div>\n",
       "<style scoped>\n",
       "    .dataframe tbody tr th:only-of-type {\n",
       "        vertical-align: middle;\n",
       "    }\n",
       "\n",
       "    .dataframe tbody tr th {\n",
       "        vertical-align: top;\n",
       "    }\n",
       "\n",
       "    .dataframe thead th {\n",
       "        text-align: right;\n",
       "    }\n",
       "</style>\n",
       "<table border=\"1\" class=\"dataframe\">\n",
       "  <thead>\n",
       "    <tr style=\"text-align: right;\">\n",
       "      <th></th>\n",
       "      <th>cluster</th>\n",
       "      <th>tweet</th>\n",
       "    </tr>\n",
       "  </thead>\n",
       "  <tbody>\n",
       "    <tr>\n",
       "      <th>6</th>\n",
       "      <td>1</td>\n",
       "      <td>Malparido clima parece Karate kid ponte la chaqueta quitate la chaqueta ponte encima mioAh no asi no era Jeje</td>\n",
       "    </tr>\n",
       "    <tr>\n",
       "      <th>7</th>\n",
       "      <td>1</td>\n",
       "      <td>Y por eso delegado de Estados Unidos la delegacion de la GLORIOSA UNION SOVIETICA decide vetar su resolucion Malparido</td>\n",
       "    </tr>\n",
       "    <tr>\n",
       "      <th>23</th>\n",
       "      <td>1</td>\n",
       "      <td>UribeColombiaEstaContigo rodeandote para que no te vayas a escapar malparido</td>\n",
       "    </tr>\n",
       "    <tr>\n",
       "      <th>28</th>\n",
       "      <td>1</td>\n",
       "      <td>Pobre malparido exclamo la dulce princesa</td>\n",
       "    </tr>\n",
       "    <tr>\n",
       "      <th>34</th>\n",
       "      <td>1</td>\n",
       "      <td>Hagame el malparido favor httpstcobqoLYxb</td>\n",
       "    </tr>\n",
       "    <tr>\n",
       "      <th>39</th>\n",
       "      <td>1</td>\n",
       "      <td>Deja de darle Rt a esa monda malparido que todos nos estamos viendo el partido pelao care verga</td>\n",
       "    </tr>\n",
       "    <tr>\n",
       "      <th>40</th>\n",
       "      <td>1</td>\n",
       "      <td>Mi novia me tiene dando vueltas por toda santa Marta buscando un malparido mango Vida sapa perra hijueputa</td>\n",
       "    </tr>\n",
       "    <tr>\n",
       "      <th>41</th>\n",
       "      <td>1</td>\n",
       "      <td>Mi mama Laura no vaya a pelear con su hermano Yo pirobo conteste ese hijueputa celular que tengo hambre malparido no hace un qlo por que no se va de esta casa que ya estorba</td>\n",
       "    </tr>\n",
       "    <tr>\n",
       "      <th>42</th>\n",
       "      <td>1</td>\n",
       "      <td>Yo pongo tantas canastas como aos le metan al malparido ahi esta mi UribeChallenge</td>\n",
       "    </tr>\n",
       "    <tr>\n",
       "      <th>43</th>\n",
       "      <td>1</td>\n",
       "      <td>Malparido clima parece Karate kid ponte la chaqueta quitate la chaqueta ponte encima mio ah no asi no era Jajaja</td>\n",
       "    </tr>\n",
       "    <tr>\n",
       "      <th>49</th>\n",
       "      <td>1</td>\n",
       "      <td>Soy demasiado dramatica por cualquier vaina hago un drama tipo eres un malparido anoche no me arropaste cuando me quite la sabana eres el peor novio del mundo comienzo a llorar me pico y me salgo del cuarto bataqueando la puerta</td>\n",
       "    </tr>\n",
       "    <tr>\n",
       "      <th>51</th>\n",
       "      <td>1</td>\n",
       "      <td>Malparido</td>\n",
       "    </tr>\n",
       "    <tr>\n",
       "      <th>63</th>\n",
       "      <td>1</td>\n",
       "      <td>Oiga calvo malparido usted que habla de pagar por los delitos  cometidos  vos ya pagaste por las multiple</td>\n",
       "    </tr>\n",
       "    <tr>\n",
       "      <th>88</th>\n",
       "      <td>1</td>\n",
       "      <td>Jajajajaja este bobo hp es una ternura con su cinismo Malparido hijo de puta</td>\n",
       "    </tr>\n",
       "    <tr>\n",
       "      <th>108</th>\n",
       "      <td>1</td>\n",
       "      <td>Negro malparido ojala lo vendan httpstcocouNbhCs</td>\n",
       "    </tr>\n",
       "    <tr>\n",
       "      <th>118</th>\n",
       "      <td>1</td>\n",
       "      <td>Como hago pa no mandar a comer monda a este malparido</td>\n",
       "    </tr>\n",
       "    <tr>\n",
       "      <th>124</th>\n",
       "      <td>1</td>\n",
       "      <td>Siquiere nos damos malparido</td>\n",
       "    </tr>\n",
       "    <tr>\n",
       "      <th>129</th>\n",
       "      <td>1</td>\n",
       "      <td>Ya me lleve el coleron del dia perdiendo ese malparido partido</td>\n",
       "    </tr>\n",
       "    <tr>\n",
       "      <th>135</th>\n",
       "      <td>1</td>\n",
       "      <td>Es un triple malparido</td>\n",
       "    </tr>\n",
       "    <tr>\n",
       "      <th>139</th>\n",
       "      <td>1</td>\n",
       "      <td>Jajajaja malparido ome</td>\n",
       "    </tr>\n",
       "    <tr>\n",
       "      <th>140</th>\n",
       "      <td>1</td>\n",
       "      <td>Fijo Guimaraes sale a decir que fue un buen partido de su grupo que se sacrifico y nunca bajo los brazos largate malparido</td>\n",
       "    </tr>\n",
       "    <tr>\n",
       "      <th>143</th>\n",
       "      <td>1</td>\n",
       "      <td>Fijo Guimaraes sale a decir que fue un buen partido de su grupo que se sacrifico y nunca bajo los brazos largate malparido burro</td>\n",
       "    </tr>\n",
       "    <tr>\n",
       "      <th>156</th>\n",
       "      <td>1</td>\n",
       "      <td>quien fue el hijueputa que nos metio ese tecnico malparido   America lo mismo de siempre</td>\n",
       "    </tr>\n",
       "    <tr>\n",
       "      <th>157</th>\n",
       "      <td>1</td>\n",
       "      <td>Ya para que triplehijueputas meten a Medina Guimaraes burro malparido</td>\n",
       "    </tr>\n",
       "    <tr>\n",
       "      <th>159</th>\n",
       "      <td>1</td>\n",
       "      <td>RANGEL MALPARIDO</td>\n",
       "    </tr>\n",
       "    <tr>\n",
       "      <th>163</th>\n",
       "      <td>1</td>\n",
       "      <td>Malparido America malparido</td>\n",
       "    </tr>\n",
       "    <tr>\n",
       "      <th>164</th>\n",
       "      <td>1</td>\n",
       "      <td>Inutiles hijueputas todo culpa del malparido de Guimamierda</td>\n",
       "    </tr>\n",
       "    <tr>\n",
       "      <th>166</th>\n",
       "      <td>1</td>\n",
       "      <td>RANGEL MALPARIDO</td>\n",
       "    </tr>\n",
       "    <tr>\n",
       "      <th>168</th>\n",
       "      <td>1</td>\n",
       "      <td>Malparido Segovia como vas a cobrar asi</td>\n",
       "    </tr>\n",
       "    <tr>\n",
       "      <th>170</th>\n",
       "      <td>1</td>\n",
       "      <td>Haber no entiendo a uribe no le habren proceso por unas chuzadas y eso bien pero a teodora eso si es montaje y la q la chuzo en la carcel eso si es justicia no sea hp sr malparido es malparido y deben ir ala carcel</td>\n",
       "    </tr>\n",
       "    <tr>\n",
       "      <th>...</th>\n",
       "      <td>...</td>\n",
       "      <td>...</td>\n",
       "    </tr>\n",
       "    <tr>\n",
       "      <th>1022</th>\n",
       "      <td>1</td>\n",
       "      <td>Y otra vez taladrando porque son asibde perrisimos malparido no ven q es sabado Dejenme dormir eche</td>\n",
       "    </tr>\n",
       "    <tr>\n",
       "      <th>1036</th>\n",
       "      <td>1</td>\n",
       "      <td>Que perro tan perro malparido valga la redundancia</td>\n",
       "    </tr>\n",
       "    <tr>\n",
       "      <th>1047</th>\n",
       "      <td>1</td>\n",
       "      <td>Malparido  de Uribe pagamos por lo que el ordeno hacer no asi nos deja en paz httpstcoJheNTbtAKv</td>\n",
       "    </tr>\n",
       "    <tr>\n",
       "      <th>1057</th>\n",
       "      <td>1</td>\n",
       "      <td>Estoy estresada porque Danna nada que sube el malparido videoooooooooo GSUS</td>\n",
       "    </tr>\n",
       "    <tr>\n",
       "      <th>1069</th>\n",
       "      <td>1</td>\n",
       "      <td>No seas tan pendejo deja de hablar por todos yo no apoyo a ese viejo malparido no soy tan marica masoquista Di que tu estas con el Por mi que lo zampen preso a ver si deja de joder de una buena vez</td>\n",
       "    </tr>\n",
       "    <tr>\n",
       "      <th>1074</th>\n",
       "      <td>1</td>\n",
       "      <td>Como te parece Yo no estoy con ese malparido Que lo metan preso por mierda</td>\n",
       "    </tr>\n",
       "    <tr>\n",
       "      <th>1083</th>\n",
       "      <td>1</td>\n",
       "      <td>Si aja  y que tal la cita con la   UribeColombiaEstaContigo rodeandolo para que no se escape Malparido</td>\n",
       "    </tr>\n",
       "    <tr>\n",
       "      <th>1085</th>\n",
       "      <td>1</td>\n",
       "      <td>malparido HP se ve q es un petroero resentido nunca el narcoterrorista de petrochanda va ser presidente</td>\n",
       "    </tr>\n",
       "    <tr>\n",
       "      <th>1163</th>\n",
       "      <td>1</td>\n",
       "      <td>KheEscriba bien sapo hijueeeeeputaUse signos de puntuacion malparido bruto de mierda</td>\n",
       "    </tr>\n",
       "    <tr>\n",
       "      <th>1183</th>\n",
       "      <td>1</td>\n",
       "      <td>Si pero no me ponen a escuchar esas canciones de marihuaneros que ni saben lo que dicen malparido</td>\n",
       "    </tr>\n",
       "    <tr>\n",
       "      <th>1186</th>\n",
       "      <td>1</td>\n",
       "      <td>Me hablo el malparido que no era ugh amigo byeeeeeeeeeeeeeeee a vos no te invoque</td>\n",
       "    </tr>\n",
       "    <tr>\n",
       "      <th>1188</th>\n",
       "      <td>1</td>\n",
       "      <td>Malparido Electricaribe</td>\n",
       "    </tr>\n",
       "    <tr>\n",
       "      <th>1192</th>\n",
       "      <td>1</td>\n",
       "      <td>Malparido yo que me ilusiono con imbecilidades</td>\n",
       "    </tr>\n",
       "    <tr>\n",
       "      <th>1193</th>\n",
       "      <td>1</td>\n",
       "      <td>Me quiero afeitar los hijos de puta pelos de la espalda que los odio y no puedo y no tengo a nadie que me afeite que malparido calvario</td>\n",
       "    </tr>\n",
       "    <tr>\n",
       "      <th>1196</th>\n",
       "      <td>1</td>\n",
       "      <td>Mire pedazo de malparido yo los amigos los cuento con  dedos</td>\n",
       "    </tr>\n",
       "    <tr>\n",
       "      <th>1200</th>\n",
       "      <td>1</td>\n",
       "      <td>Ese malparido de Macias cree salir vivo desps de la burrada que cometio en plena sesion del senado Asi o mas bruto</td>\n",
       "    </tr>\n",
       "    <tr>\n",
       "      <th>1201</th>\n",
       "      <td>1</td>\n",
       "      <td>Jajaja no malparido</td>\n",
       "    </tr>\n",
       "    <tr>\n",
       "      <th>1206</th>\n",
       "      <td>1</td>\n",
       "      <td>mameme las bolas hijo de su gran puta gonorrea malparido deje de joder</td>\n",
       "    </tr>\n",
       "    <tr>\n",
       "      <th>1211</th>\n",
       "      <td>1</td>\n",
       "      <td>Mi fantasia sexual es que Alvaro Uribe alias el malparido innombrable pague carcel por sus delitos</td>\n",
       "    </tr>\n",
       "    <tr>\n",
       "      <th>1212</th>\n",
       "      <td>1</td>\n",
       "      <td>Paila que sea tan menosprecio ese malparido</td>\n",
       "    </tr>\n",
       "    <tr>\n",
       "      <th>1215</th>\n",
       "      <td>1</td>\n",
       "      <td>Uno no se vuelve hijueputa porque se le da la gana osea no sea tan malparido</td>\n",
       "    </tr>\n",
       "    <tr>\n",
       "      <th>1219</th>\n",
       "      <td>1</td>\n",
       "      <td>Los asesinatos por falsos positivos no son por querer a Colombia  catre hijueputa paraco de mierda malparido Asi como lo paraco que hasta del culo le brota CarechimbaPerdon me exalte bebito</td>\n",
       "    </tr>\n",
       "    <tr>\n",
       "      <th>1223</th>\n",
       "      <td>1</td>\n",
       "      <td>Al fin pagaras paraco malparido  httpstcoAAgwVDT</td>\n",
       "    </tr>\n",
       "    <tr>\n",
       "      <th>1242</th>\n",
       "      <td>1</td>\n",
       "      <td>Jueputa si me cogio el malparido aguardiente  necesito que se me baje ya</td>\n",
       "    </tr>\n",
       "    <tr>\n",
       "      <th>1247</th>\n",
       "      <td>1</td>\n",
       "      <td>Malparido Electricaribe te estabas demorando</td>\n",
       "    </tr>\n",
       "    <tr>\n",
       "      <th>1271</th>\n",
       "      <td>1</td>\n",
       "      <td>Un peladito malparido le dijo a mi prima que la queria llevar al Simon Bolivar para violarla y luego prostituirla esta e</td>\n",
       "    </tr>\n",
       "    <tr>\n",
       "      <th>1272</th>\n",
       "      <td>1</td>\n",
       "      <td>Imaginate que hay un mexicano queriendome insultar bitch please Im from Colombia pirobo care chimba gonorrea come mierda triple malparido por el orto</td>\n",
       "    </tr>\n",
       "    <tr>\n",
       "      <th>1284</th>\n",
       "      <td>1</td>\n",
       "      <td>Malparido</td>\n",
       "    </tr>\n",
       "    <tr>\n",
       "      <th>1285</th>\n",
       "      <td>1</td>\n",
       "      <td>Malparido abusivo</td>\n",
       "    </tr>\n",
       "    <tr>\n",
       "      <th>1294</th>\n",
       "      <td>1</td>\n",
       "      <td>Rosquete malparido hijo de puta</td>\n",
       "    </tr>\n",
       "  </tbody>\n",
       "</table>\n",
       "<p>183 rows × 2 columns</p>\n",
       "</div>"
      ],
      "text/plain": [
       "      cluster  \\\n",
       "6     1         \n",
       "7     1         \n",
       "23    1         \n",
       "28    1         \n",
       "34    1         \n",
       "39    1         \n",
       "40    1         \n",
       "41    1         \n",
       "42    1         \n",
       "43    1         \n",
       "49    1         \n",
       "51    1         \n",
       "63    1         \n",
       "88    1         \n",
       "108   1         \n",
       "118   1         \n",
       "124   1         \n",
       "129   1         \n",
       "135   1         \n",
       "139   1         \n",
       "140   1         \n",
       "143   1         \n",
       "156   1         \n",
       "157   1         \n",
       "159   1         \n",
       "163   1         \n",
       "164   1         \n",
       "166   1         \n",
       "168   1         \n",
       "170   1         \n",
       "...  ..         \n",
       "1022  1         \n",
       "1036  1         \n",
       "1047  1         \n",
       "1057  1         \n",
       "1069  1         \n",
       "1074  1         \n",
       "1083  1         \n",
       "1085  1         \n",
       "1163  1         \n",
       "1183  1         \n",
       "1186  1         \n",
       "1188  1         \n",
       "1192  1         \n",
       "1193  1         \n",
       "1196  1         \n",
       "1200  1         \n",
       "1201  1         \n",
       "1206  1         \n",
       "1211  1         \n",
       "1212  1         \n",
       "1215  1         \n",
       "1219  1         \n",
       "1223  1         \n",
       "1242  1         \n",
       "1247  1         \n",
       "1271  1         \n",
       "1272  1         \n",
       "1284  1         \n",
       "1285  1         \n",
       "1294  1         \n",
       "\n",
       "                                                                                                                                                                                                                                     tweet  \n",
       "6       Malparido clima parece Karate kid ponte la chaqueta quitate la chaqueta ponte encima mioAh no asi no era Jeje                                                                                                                       \n",
       "7      Y por eso delegado de Estados Unidos la delegacion de la GLORIOSA UNION SOVIETICA decide vetar su resolucion Malparido                                                                                                               \n",
       "23      UribeColombiaEstaContigo rodeandote para que no te vayas a escapar malparido                                                                                                                                                        \n",
       "28    Pobre malparido exclamo la dulce princesa                                                                                                                                                                                             \n",
       "34    Hagame el malparido favor httpstcobqoLYxb                                                                                                                                                                                             \n",
       "39    Deja de darle Rt a esa monda malparido que todos nos estamos viendo el partido pelao care verga                                                                                                                                       \n",
       "40    Mi novia me tiene dando vueltas por toda santa Marta buscando un malparido mango Vida sapa perra hijueputa                                                                                                                            \n",
       "41    Mi mama Laura no vaya a pelear con su hermano Yo pirobo conteste ese hijueputa celular que tengo hambre malparido no hace un qlo por que no se va de esta casa que ya estorba                                                         \n",
       "42      Yo pongo tantas canastas como aos le metan al malparido ahi esta mi UribeChallenge                                                                                                                                                  \n",
       "43    Malparido clima parece Karate kid ponte la chaqueta quitate la chaqueta ponte encima mio ah no asi no era Jajaja                                                                                                                      \n",
       "49    Soy demasiado dramatica por cualquier vaina hago un drama tipo eres un malparido anoche no me arropaste cuando me quite la sabana eres el peor novio del mundo comienzo a llorar me pico y me salgo del cuarto bataqueando la puerta  \n",
       "51     Malparido                                                                                                                                                                                                                            \n",
       "63       Oiga calvo malparido usted que habla de pagar por los delitos  cometidos  vos ya pagaste por las multiple                                                                                                                          \n",
       "88     Jajajajaja este bobo hp es una ternura con su cinismo Malparido hijo de puta                                                                                                                                                         \n",
       "108   Negro malparido ojala lo vendan httpstcocouNbhCs                                                                                                                                                                                      \n",
       "118   Como hago pa no mandar a comer monda a este malparido                                                                                                                                                                                 \n",
       "124      Siquiere nos damos malparido                                                                                                                                                                                                       \n",
       "129   Ya me lleve el coleron del dia perdiendo ese malparido partido                                                                                                                                                                        \n",
       "135   Es un triple malparido                                                                                                                                                                                                                \n",
       "139      Jajajaja malparido ome                                                                                                                                                                                                             \n",
       "140     Fijo Guimaraes sale a decir que fue un buen partido de su grupo que se sacrifico y nunca bajo los brazos largate malparido                                                                                                          \n",
       "143   Fijo Guimaraes sale a decir que fue un buen partido de su grupo que se sacrifico y nunca bajo los brazos largate malparido burro                                                                                                      \n",
       "156    quien fue el hijueputa que nos metio ese tecnico malparido   America lo mismo de siempre                                                                                                                                             \n",
       "157   Ya para que triplehijueputas meten a Medina Guimaraes burro malparido                                                                                                                                                                 \n",
       "159     RANGEL MALPARIDO                                                                                                                                                                                                                    \n",
       "163   Malparido America malparido                                                                                                                                                                                                           \n",
       "164    Inutiles hijueputas todo culpa del malparido de Guimamierda                                                                                                                                                                          \n",
       "166   RANGEL MALPARIDO                                                                                                                                                                                                                      \n",
       "168     Malparido Segovia como vas a cobrar asi                                                                                                                                                                                             \n",
       "170    Haber no entiendo a uribe no le habren proceso por unas chuzadas y eso bien pero a teodora eso si es montaje y la q la chuzo en la carcel eso si es justicia no sea hp sr malparido es malparido y deben ir ala carcel               \n",
       "...                                                                                                                                                                                                                       ...               \n",
       "1022  Y otra vez taladrando porque son asibde perrisimos malparido no ven q es sabado Dejenme dormir eche                                                                                                                                   \n",
       "1036  Que perro tan perro malparido valga la redundancia                                                                                                                                                                                    \n",
       "1047  Malparido  de Uribe pagamos por lo que el ordeno hacer no asi nos deja en paz httpstcoJheNTbtAKv                                                                                                                                      \n",
       "1057  Estoy estresada porque Danna nada que sube el malparido videoooooooooo GSUS                                                                                                                                                           \n",
       "1069    No seas tan pendejo deja de hablar por todos yo no apoyo a ese viejo malparido no soy tan marica masoquista Di que tu estas con el Por mi que lo zampen preso a ver si deja de joder de una buena vez                               \n",
       "1074     Como te parece Yo no estoy con ese malparido Que lo metan preso por mierda                                                                                                                                                         \n",
       "1083   Si aja  y que tal la cita con la   UribeColombiaEstaContigo rodeandolo para que no se escape Malparido                                                                                                                               \n",
       "1085   malparido HP se ve q es un petroero resentido nunca el narcoterrorista de petrochanda va ser presidente                                                                                                                              \n",
       "1163    KheEscriba bien sapo hijueeeeeputaUse signos de puntuacion malparido bruto de mierda                                                                                                                                                \n",
       "1183   Si pero no me ponen a escuchar esas canciones de marihuaneros que ni saben lo que dicen malparido                                                                                                                                    \n",
       "1186  Me hablo el malparido que no era ugh amigo byeeeeeeeeeeeeeeee a vos no te invoque                                                                                                                                                     \n",
       "1188  Malparido Electricaribe                                                                                                                                                                                                               \n",
       "1192  Malparido yo que me ilusiono con imbecilidades                                                                                                                                                                                        \n",
       "1193  Me quiero afeitar los hijos de puta pelos de la espalda que los odio y no puedo y no tengo a nadie que me afeite que malparido calvario                                                                                               \n",
       "1196  Mire pedazo de malparido yo los amigos los cuento con  dedos                                                                                                                                                                          \n",
       "1200   Ese malparido de Macias cree salir vivo desps de la burrada que cometio en plena sesion del senado Asi o mas bruto                                                                                                                   \n",
       "1201   Jajaja no malparido                                                                                                                                                                                                                  \n",
       "1206   mameme las bolas hijo de su gran puta gonorrea malparido deje de joder                                                                                                                                                               \n",
       "1211  Mi fantasia sexual es que Alvaro Uribe alias el malparido innombrable pague carcel por sus delitos                                                                                                                                    \n",
       "1212  Paila que sea tan menosprecio ese malparido                                                                                                                                                                                           \n",
       "1215    Uno no se vuelve hijueputa porque se le da la gana osea no sea tan malparido                                                                                                                                                        \n",
       "1219   Los asesinatos por falsos positivos no son por querer a Colombia  catre hijueputa paraco de mierda malparido Asi como lo paraco que hasta del culo le brota CarechimbaPerdon me exalte bebito                                        \n",
       "1223  Al fin pagaras paraco malparido  httpstcoAAgwVDT                                                                                                                                                                                      \n",
       "1242  Jueputa si me cogio el malparido aguardiente  necesito que se me baje ya                                                                                                                                                              \n",
       "1247  Malparido Electricaribe te estabas demorando                                                                                                                                                                                          \n",
       "1271    Un peladito malparido le dijo a mi prima que la queria llevar al Simon Bolivar para violarla y luego prostituirla esta e                                                                                                            \n",
       "1272  Imaginate que hay un mexicano queriendome insultar bitch please Im from Colombia pirobo care chimba gonorrea come mierda triple malparido por el orto                                                                                 \n",
       "1284   Malparido                                                                                                                                                                                                                            \n",
       "1285   Malparido abusivo                                                                                                                                                                                                                    \n",
       "1294   Rosquete malparido hijo de puta                                                                                                                                                                                                      \n",
       "\n",
       "[183 rows x 2 columns]"
      ]
     },
     "execution_count": 268,
     "metadata": {},
     "output_type": "execute_result"
    }
   ],
   "source": [
    "nosup[nosup.cluster==1]"
   ]
  },
  {
   "cell_type": "markdown",
   "metadata": {},
   "source": [
    "## DBSCAN"
   ]
  },
  {
   "cell_type": "code",
   "execution_count": 295,
   "metadata": {},
   "outputs": [
    {
     "data": {
      "text/plain": [
       "DBSCAN(algorithm='auto', eps=0.3, leaf_size=30, metric='euclidean',\n",
       "    metric_params=None, min_samples=5, n_jobs=1, p=None)"
      ]
     },
     "execution_count": 295,
     "metadata": {},
     "output_type": "execute_result"
    }
   ],
   "source": [
    "from sklearn.cluster import DBSCAN\n",
    "DBS = DBSCAN(eps=.3, min_samples=5)\n",
    "DBS.fit(vectorized_data) "
   ]
  },
  {
   "cell_type": "code",
   "execution_count": 296,
   "metadata": {},
   "outputs": [],
   "source": [
    "est2=DBS.labels_"
   ]
  },
  {
   "cell_type": "code",
   "execution_count": 297,
   "metadata": {},
   "outputs": [
    {
     "data": {
      "text/plain": [
       "5"
      ]
     },
     "execution_count": 297,
     "metadata": {},
     "output_type": "execute_result"
    }
   ],
   "source": [
    "nosup2 = pd.DataFrame({'cluster2':est2,'tweet':clean})\n",
    "sum(1*(nosup2['cluster2']==1))"
   ]
  },
  {
   "cell_type": "code",
   "execution_count": 298,
   "metadata": {},
   "outputs": [
    {
     "data": {
      "text/plain": [
       "array([-1,  0,  1])"
      ]
     },
     "execution_count": 298,
     "metadata": {},
     "output_type": "execute_result"
    }
   ],
   "source": [
    "nosup2['cluster2'].unique()"
   ]
  },
  {
   "cell_type": "markdown",
   "metadata": {},
   "source": [
    "# Semi-supervisado"
   ]
  },
  {
   "cell_type": "code",
   "execution_count": 303,
   "metadata": {},
   "outputs": [
    {
     "data": {
      "text/plain": [
       "LabelPropagation(alpha=None, gamma=20, kernel='rbf', max_iter=1000, n_jobs=1,\n",
       "         n_neighbors=7, tol=0.001)"
      ]
     },
     "execution_count": 303,
     "metadata": {},
     "output_type": "execute_result"
    }
   ],
   "source": [
    ">>> import numpy as np\n",
    ">>> from sklearn import datasets\n",
    ">>> from sklearn.semi_supervised import LabelPropagation\n",
    ">>> label_prop_model = LabelPropagation()\n",
    ">>> rng = np.random.RandomState(42)\n",
    ">>> random_unlabeled_points = rng.rand(vectorized_data.toarray()) < 0.3\n",
    ">>> labels = np.copy(iris.target)\n",
    ">>> labels[random_unlabeled_points] = -1\n",
    ">>> label_prop_model.fit(iris.data, labels)\n"
   ]
  },
  {
   "cell_type": "code",
   "execution_count": 305,
   "metadata": {},
   "outputs": [
    {
     "ename": "TypeError",
     "evalue": "an integer is required",
     "output_type": "error",
     "traceback": [
      "\u001b[0;31m---------------------------------------------------------------------------\u001b[0m",
      "\u001b[0;31mTypeError\u001b[0m                                 Traceback (most recent call last)",
      "\u001b[0;32m<ipython-input-305-211e718831b4>\u001b[0m in \u001b[0;36m<module>\u001b[0;34m()\u001b[0m\n\u001b[1;32m      1\u001b[0m \u001b[0mrng\u001b[0m \u001b[0;34m=\u001b[0m \u001b[0mnp\u001b[0m\u001b[0;34m.\u001b[0m\u001b[0mrandom\u001b[0m\u001b[0;34m.\u001b[0m\u001b[0mRandomState\u001b[0m\u001b[0;34m(\u001b[0m\u001b[0;36m42\u001b[0m\u001b[0;34m)\u001b[0m\u001b[0;34m\u001b[0m\u001b[0;34m\u001b[0m\u001b[0m\n\u001b[0;32m----> 2\u001b[0;31m \u001b[0mrandom_unlabeled_points\u001b[0m \u001b[0;34m=\u001b[0m \u001b[0mrng\u001b[0m\u001b[0;34m.\u001b[0m\u001b[0mrand\u001b[0m\u001b[0;34m(\u001b[0m\u001b[0mlen\u001b[0m\u001b[0;34m(\u001b[0m\u001b[0mvectorized_data\u001b[0m\u001b[0;34m.\u001b[0m\u001b[0mtoarray\u001b[0m\u001b[0;34m(\u001b[0m\u001b[0;34m)\u001b[0m\u001b[0;34m)\u001b[0m \u001b[0;34m<\u001b[0m \u001b[0;36m3\u001b[0m\u001b[0;34m)\u001b[0m\u001b[0;34m\u001b[0m\u001b[0;34m\u001b[0m\u001b[0m\n\u001b[0m",
      "\u001b[0;32mmtrand.pyx\u001b[0m in \u001b[0;36mmtrand.RandomState.rand\u001b[0;34m()\u001b[0m\n",
      "\u001b[0;32mmtrand.pyx\u001b[0m in \u001b[0;36mmtrand.RandomState.random_sample\u001b[0;34m()\u001b[0m\n",
      "\u001b[0;32mmtrand.pyx\u001b[0m in \u001b[0;36mmtrand.cont0_array\u001b[0;34m()\u001b[0m\n",
      "\u001b[0;31mTypeError\u001b[0m: an integer is required"
     ]
    }
   ],
   "source": [
    "rng = np.random.RandomState(42)\n",
    "random_unlabeled_points = rng.rand(len(vectorized_data.toarray()) < 0.3)"
   ]
  },
  {
   "cell_type": "markdown",
   "metadata": {},
   "source": [
    "### Frecuencia de palabras para cada clase"
   ]
  },
  {
   "cell_type": "code",
   "execution_count": 302,
   "metadata": {},
   "outputs": [],
   "source": [
    "import collections\n",
    "def count_words(input):\n",
    "    cnt = collections.Counter()\n",
    "    for row in input:\n",
    "        for word in row:\n",
    "            cnt[word] += 1\n",
    "    return cnt"
   ]
  },
  {
   "cell_type": "code",
   "execution_count": 347,
   "metadata": {},
   "outputs": [],
   "source": [
    "wordshate=df[(df.clase == 0)][['preprocessed']].apply(count_words)['preprocessed'].most_common(20)\n",
    "wordsoff=df[(df.clase == 1)][['preprocessed']].apply(count_words)['preprocessed'].most_common(20)\n",
    "wordsneit=df[(df.clase == 2)][['preprocessed']].apply(count_words)['preprocessed'].most_common(20)"
   ]
  },
  {
   "cell_type": "code",
   "execution_count": 415,
   "metadata": {},
   "outputs": [],
   "source": [
    "w=np.array(wordshate)[:,0]\n",
    "c=np.array(wordshate)[:,1]\n",
    "\n",
    "w1=np.array(wordsoff)[:,0]\n",
    "c1=np.array(wordsoff)[:,1]\n",
    "\n",
    "w2=np.array(wordsneit)[:,0]\n",
    "c2=np.array(wordsneit)[:,1]"
   ]
  },
  {
   "cell_type": "code",
   "execution_count": 416,
   "metadata": {},
   "outputs": [],
   "source": [
    "d = pd.DataFrame({'word': w,\n",
    "                  'valor': [int(x) for x in c]})\n",
    "d1 = pd.DataFrame({'word': w1,\n",
    "                  'valor': [int(x) for x in c1]})\n",
    "d2 = pd.DataFrame({'word': w2,\n",
    "                  'valor': [int(x) for x in c2]})\n"
   ]
  },
  {
   "cell_type": "code",
   "execution_count": 451,
   "metadata": {},
   "outputs": [
    {
     "data": {
      "image/png": "[encoded data removed]",
      "text/plain": [
       "<Figure size 1080x720 with 1 Axes>"
      ]
     },
     "metadata": {},
     "output_type": "display_data"
    },
    {
     "data": {
      "image/png": "[encoded data removed]",
      "text/plain": [
       "<Figure size 1080x720 with 1 Axes>"
      ]
     },
     "metadata": {},
     "output_type": "display_data"
    },
    {
     "data": {
      "image/png": "[encoded data removed]",
      "text/plain": [
       "<Figure size 1080x720 with 1 Axes>"
      ]
     },
     "metadata": {},
     "output_type": "display_data"
    }
   ],
   "source": [
    "fig = plt.figure(figsize=(15,10))\n",
    "plt.subplot(3,1,1)\n",
    "fig.suptitle('Hate', fontsize=25)\n",
    "ax = sns.barplot(data=d, x= \"word\", y = \"valor\", palette= sns.light_palette(\"purple\",n_colors=20, reverse=False))\n",
    "ax.set(ylabel = 'count')\n",
    "plt.show()\n",
    "\n",
    "plt.figure(figsize=(15,10))\n",
    "plt.subplot(3,1,2)\n",
    "ax = sns.barplot(data=d1, x= \"word\", y = \"valor\",palette=sns.light_palette(\"navy\",n_colors=20, reverse=True))\n",
    "ax.set(ylabel = 'count')\n",
    "plt.title(\"Offensive\", fontsize=25)\n",
    "plt.show()\n",
    "\n",
    "plt.figure(figsize=(15,10))\n",
    "plt.subplot(3,1,3)\n",
    "ax = sns.barplot(data=d2, x= \"word\", y = \"valor\",palette=sns.light_palette(\"yellow\",n_colors=20, reverse=True))\n",
    "ax.set(ylabel = 'count')\n",
    "plt.title(\"Neither\", fontsize=25)\n",
    "plt.show()"
   ]
  }
 ],
 "metadata": {
  "kernelspec": {
   "display_name": "Python 3",
   "language": "python",
   "name": "python3"
  },
  "language_info": {
   "codemirror_mode": {
    "name": "ipython",
    "version": 3
   },
   "file_extension": ".py",
   "mimetype": "text/x-python",
   "name": "python",
   "nbconvert_exporter": "python",
   "pygments_lexer": "ipython3",
   "version": "3.7.2"
  }
 },
 "nbformat": 4,
 "nbformat_minor": 2
}
