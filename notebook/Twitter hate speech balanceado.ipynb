{
 "cells": [
  {
   "cell_type": "markdown",
   "metadata": {},
   "source": [
    "<img src=\"../imgs/head.png\" style=\"width:1000px;\">\n",
    "\n",
    "# <center> Detección de Hate Speech en Twitter </center>"
   ]
  },
  {
   "cell_type": "code",
   "execution_count": 2,
   "metadata": {},
   "outputs": [],
   "source": [
    "import numpy as np\n",
    "import pandas as pd\n",
    "import matplotlib.pyplot as plt\n",
    "from sklearn.model_selection import KFold\n",
    "from sklearn.metrics import *\n",
    "from sklearn import svm\n",
    "from sklearn.multiclass import OneVsRestClassifier\n",
    "import re, nltk\n",
    "from nltk.stem import WordNetLemmatizer\n",
    "from nltk.corpus import stopwords\n",
    "\n",
    "\n",
    "%matplotlib inline"
   ]
  },
  {
   "cell_type": "markdown",
   "metadata": {},
   "source": [
    "## <center> Dataset </center>"
   ]
  },
  {
   "cell_type": "code",
   "execution_count": 10,
   "metadata": {},
   "outputs": [
    {
     "name": "stdout",
     "output_type": "stream",
     "text": [
      "(34380, 7)\n"
     ]
    },
    {
     "data": {
      "text/html": [
       "<div>\n",
       "<style scoped>\n",
       "    .dataframe tbody tr th:only-of-type {\n",
       "        vertical-align: middle;\n",
       "    }\n",
       "\n",
       "    .dataframe tbody tr th {\n",
       "        vertical-align: top;\n",
       "    }\n",
       "\n",
       "    .dataframe thead th {\n",
       "        text-align: right;\n",
       "    }\n",
       "</style>\n",
       "<table border=\"1\" class=\"dataframe\">\n",
       "  <thead>\n",
       "    <tr style=\"text-align: right;\">\n",
       "      <th></th>\n",
       "      <th>Unnamed: 0</th>\n",
       "      <th>count</th>\n",
       "      <th>hate_speech</th>\n",
       "      <th>offensive_language</th>\n",
       "      <th>neither</th>\n",
       "      <th>clase</th>\n",
       "      <th>tweet</th>\n",
       "    </tr>\n",
       "  </thead>\n",
       "  <tbody>\n",
       "    <tr>\n",
       "      <th>0</th>\n",
       "      <td>0.0</td>\n",
       "      <td>3.0</td>\n",
       "      <td>0.0</td>\n",
       "      <td>0.0</td>\n",
       "      <td>3.0</td>\n",
       "      <td>2</td>\n",
       "      <td>!!! RT @mayasolovely: As a woman you shouldn't complain about cleaning up your house. &amp;amp; as a man you should always take the trash out...</td>\n",
       "    </tr>\n",
       "    <tr>\n",
       "      <th>1</th>\n",
       "      <td>1.0</td>\n",
       "      <td>3.0</td>\n",
       "      <td>0.0</td>\n",
       "      <td>3.0</td>\n",
       "      <td>0.0</td>\n",
       "      <td>1</td>\n",
       "      <td>!!!!! RT @mleew17: boy dats cold...tyga dwn bad for cuffin dat hoe in the 1st place!!</td>\n",
       "    </tr>\n",
       "    <tr>\n",
       "      <th>2</th>\n",
       "      <td>2.0</td>\n",
       "      <td>3.0</td>\n",
       "      <td>0.0</td>\n",
       "      <td>3.0</td>\n",
       "      <td>0.0</td>\n",
       "      <td>1</td>\n",
       "      <td>!!!!!!! RT @UrKindOfBrand Dawg!!!! RT @80sbaby4life: You ever fuck a bitch and she start to cry? You be confused as shit</td>\n",
       "    </tr>\n",
       "    <tr>\n",
       "      <th>3</th>\n",
       "      <td>3.0</td>\n",
       "      <td>3.0</td>\n",
       "      <td>0.0</td>\n",
       "      <td>2.0</td>\n",
       "      <td>1.0</td>\n",
       "      <td>1</td>\n",
       "      <td>!!!!!!!!! RT @C_G_Anderson: @viva_based she look like a tranny</td>\n",
       "    </tr>\n",
       "    <tr>\n",
       "      <th>4</th>\n",
       "      <td>4.0</td>\n",
       "      <td>6.0</td>\n",
       "      <td>0.0</td>\n",
       "      <td>6.0</td>\n",
       "      <td>0.0</td>\n",
       "      <td>1</td>\n",
       "      <td>!!!!!!!!!!!!! RT @ShenikaRoberts: The shit you hear about me might be true or it might be faker than the bitch who told it to ya &amp;#57361;</td>\n",
       "    </tr>\n",
       "  </tbody>\n",
       "</table>\n",
       "</div>"
      ],
      "text/plain": [
       "   Unnamed: 0  count  hate_speech  offensive_language  neither  clase  \\\n",
       "0  0.0         3.0    0.0          0.0                 3.0      2       \n",
       "1  1.0         3.0    0.0          3.0                 0.0      1       \n",
       "2  2.0         3.0    0.0          3.0                 0.0      1       \n",
       "3  3.0         3.0    0.0          2.0                 1.0      1       \n",
       "4  4.0         6.0    0.0          6.0                 0.0      1       \n",
       "\n",
       "                                                                                                                                          tweet  \n",
       "0  !!! RT @mayasolovely: As a woman you shouldn't complain about cleaning up your house. &amp; as a man you should always take the trash out...  \n",
       "1  !!!!! RT @mleew17: boy dats cold...tyga dwn bad for cuffin dat hoe in the 1st place!!                                                         \n",
       "2  !!!!!!! RT @UrKindOfBrand Dawg!!!! RT @80sbaby4life: You ever fuck a bitch and she start to cry? You be confused as shit                      \n",
       "3  !!!!!!!!! RT @C_G_Anderson: @viva_based she look like a tranny                                                                                \n",
       "4  !!!!!!!!!!!!! RT @ShenikaRoberts: The shit you hear about me might be true or it might be faker than the bitch who told it to ya &#57361;     "
      ]
     },
     "execution_count": 10,
     "metadata": {},
     "output_type": "execute_result"
    }
   ],
   "source": [
    "d = pd.read_csv(\"../data/labeled_data.csv\")\n",
    "pd.set_option('display.max_colwidth', -1)\n",
    "print(d.shape)\n",
    "d.head()"
   ]
  },
  {
   "cell_type": "markdown",
   "metadata": {},
   "source": [
    "### Identificación de clases"
   ]
  },
  {
   "cell_type": "code",
   "execution_count": 11,
   "metadata": {},
   "outputs": [
    {
     "name": "stdout",
     "output_type": "stream",
     "text": [
      "Hate Speech 3829 \n",
      "Offensive 19144 \n",
      "Neither 11407\n"
     ]
    }
   ],
   "source": [
    "hateSpeech = d[d.clase == 0].shape[0]\n",
    "off = d[d.clase == 1].shape[0]\n",
    "net = d[d.clase == 2].shape[0]\n",
    "print(\"Hate Speech\", hateSpeech,\"\\nOffensive\", off, \"\\nNeither\", net)"
   ]
  },
  {
   "cell_type": "markdown",
   "metadata": {},
   "source": [
    "### Balanceo del dataset"
   ]
  },
  {
   "cell_type": "code",
   "execution_count": 12,
   "metadata": {},
   "outputs": [],
   "source": [
    "hateSpeechd = d[d.clase == 0]\n",
    "offd = d[d.clase == 1].reindex(np.random.permutation(d[d.clase == 1].index))\n",
    "offtest = offd[5000:9000]\n",
    "offd = offd[0:4000]\n",
    "netd = d[d.clase == 2].reindex(np.random.permutation(d[d.clase == 2].index))\n",
    "nettest = netd[5000:9000]\n",
    "netd = netd[0:4000]"
   ]
  },
  {
   "cell_type": "code",
   "execution_count": 13,
   "metadata": {},
   "outputs": [],
   "source": [
    "df = pd.DataFrame()\n",
    "dfTest =  pd.DataFrame()\n",
    "a=[hateSpeechd, offd, netd]\n",
    "b = [hateSpeechd, offd, netd, offtest, nettest]\n",
    "df = pd.concat(a, ignore_index=True)\n",
    "dfTest=pd.concat(b, ignore_index=True)"
   ]
  },
  {
   "cell_type": "code",
   "execution_count": 16,
   "metadata": {},
   "outputs": [
    {
     "data": {
      "text/html": [
       "<div>\n",
       "<style scoped>\n",
       "    .dataframe tbody tr th:only-of-type {\n",
       "        vertical-align: middle;\n",
       "    }\n",
       "\n",
       "    .dataframe tbody tr th {\n",
       "        vertical-align: top;\n",
       "    }\n",
       "\n",
       "    .dataframe thead th {\n",
       "        text-align: right;\n",
       "    }\n",
       "</style>\n",
       "<table border=\"1\" class=\"dataframe\">\n",
       "  <thead>\n",
       "    <tr style=\"text-align: right;\">\n",
       "      <th></th>\n",
       "      <th>clase</th>\n",
       "      <th>tweet</th>\n",
       "    </tr>\n",
       "  </thead>\n",
       "  <tbody>\n",
       "    <tr>\n",
       "      <th>10202</th>\n",
       "      <td>2</td>\n",
       "      <td>With my coon dawgs Drevon &amp;amp; Ayub</td>\n",
       "    </tr>\n",
       "    <tr>\n",
       "      <th>2369</th>\n",
       "      <td>0</td>\n",
       "      <td>@fdGhtP54 @Nicestguyontwit @NotKrieg see this is why we need to kill all fat people</td>\n",
       "    </tr>\n",
       "    <tr>\n",
       "      <th>3800</th>\n",
       "      <td>0</td>\n",
       "      <td>#MusicIsTheKey #IcePrince  Open Voice (LGBTQ) :: NYC Woman Files Lawsuit Claiming Cop Called Her Gay Slur; Dyke... https://t.co/udgClGHoBu</td>\n",
       "    </tr>\n",
       "    <tr>\n",
       "      <th>2693</th>\n",
       "      <td>0</td>\n",
       "      <td>@Autumnchild68 @HillaryforNV stupid nigger</td>\n",
       "    </tr>\n",
       "    <tr>\n",
       "      <th>11715</th>\n",
       "      <td>2</td>\n",
       "      <td>weight loss tips: get a job at Apple doing back of house for Christmas and you'll drop 2 sizes and no clothes will fit you that you own �_��_崁���_��_崁��</td>\n",
       "    </tr>\n",
       "  </tbody>\n",
       "</table>\n",
       "</div>"
      ],
      "text/plain": [
       "       clase  \\\n",
       "10202  2       \n",
       "2369   0       \n",
       "3800   0       \n",
       "2693   0       \n",
       "11715  2       \n",
       "\n",
       "                                                                                                                                                          tweet  \n",
       "10202  With my coon dawgs Drevon &amp; Ayub                                                                                                                      \n",
       "2369   @fdGhtP54 @Nicestguyontwit @NotKrieg see this is why we need to kill all fat people                                                                       \n",
       "3800   #MusicIsTheKey #IcePrince  Open Voice (LGBTQ) :: NYC Woman Files Lawsuit Claiming Cop Called Her Gay Slur; Dyke... https://t.co/udgClGHoBu                \n",
       "2693   @Autumnchild68 @HillaryforNV stupid nigger                                                                                                                \n",
       "11715  weight loss tips: get a job at Apple doing back of house for Christmas and you'll drop 2 sizes and no clothes will fit you that you own �_��_崁���_��_崁��  "
      ]
     },
     "execution_count": 16,
     "metadata": {},
     "output_type": "execute_result"
    }
   ],
   "source": [
    "df = df.reindex(np.random.permutation(df.index))\n",
    "df[['clase','tweet']].head()\n"
   ]
  },
  {
   "cell_type": "markdown",
   "metadata": {},
   "source": [
    "## <center> Preprocesamiento de los datos </center>"
   ]
  },
  {
   "cell_type": "markdown",
   "metadata": {},
   "source": [
    "<img src=\"../imgs/preprocessing.png\" style=\"width:800px;\">"
   ]
  },
  {
   "cell_type": "markdown",
   "metadata": {},
   "source": [
    "### Eliminación de ruido"
   ]
  },
  {
   "cell_type": "code",
   "execution_count": 17,
   "metadata": {},
   "outputs": [],
   "source": [
    "##preprocesamiento del dataset original\n",
    "clean1 = df[\"tweet\"].str.replace((r'@[\\w]*'), '')\n",
    "clean2 = clean1.str.replace(r'RT', '')\n",
    "clean = clean2.str.replace(r'[^a-zA-Z +^'']', '')\n",
    "\n",
    "\n",
    "##preprocesamiento del dataset modificado\n",
    "clean1T = dfTest[\"tweet\"].str.replace((r'@[\\w]*'), '')\n",
    "clean2T = clean1T.str.replace(r'RT', '')\n",
    "cleanTweetsT = clean2T.str.replace(r'[^a-zA-Z +^'']', '')"
   ]
  },
  {
   "cell_type": "markdown",
   "metadata": {},
   "source": [
    "### Tokenización"
   ]
  },
  {
   "cell_type": "markdown",
   "metadata": {},
   "source": [
    "La tokenización es el paso en el que se divide cadenas de texto más largas en piezas más pequeñas o tokens. "
   ]
  },
  {
   "cell_type": "code",
   "execution_count": 21,
   "metadata": {},
   "outputs": [],
   "source": [
    "tokens = []\n",
    "tokens2 = []\n",
    "for i in clean:\n",
    "    tokens.append(nltk.word_tokenize(i))\n",
    "\n",
    "for i in cleanTweetsT:\n",
    "    tokens2.append(nltk.word_tokenize(i))\n",
    "    "
   ]
  },
  {
   "cell_type": "markdown",
   "metadata": {},
   "source": [
    "### Eliminación de stopwords"
   ]
  },
  {
   "cell_type": "code",
   "execution_count": 23,
   "metadata": {},
   "outputs": [],
   "source": [
    "stop_words= set(stopwords.words('english'))\n",
    "wordnet_lemmatizer = WordNetLemmatizer()\n",
    "\n",
    "lower_case = [[x.casefold() for x in sublst] for sublst in tokens]\n",
    "cleanTweets = [[wordsub for wordsub in word if wordsub not in stop_words] for word in lower_case]\n"
   ]
  },
  {
   "cell_type": "code",
   "execution_count": 26,
   "metadata": {},
   "outputs": [],
   "source": [
    "from scipy.sparse import hstack\n",
    "from sklearn.feature_extraction.text import CountVectorizer\n",
    "\n",
    "count_vectorizer = CountVectorizer(ngram_range=(1,2))"
   ]
  },
  {
   "cell_type": "markdown",
   "metadata": {},
   "source": [
    "### CountVectorizer"
   ]
  },
  {
   "cell_type": "code",
   "execution_count": 27,
   "metadata": {},
   "outputs": [
    {
     "data": {
      "text/plain": [
       "(19829, 148618)"
      ]
     },
     "execution_count": 27,
     "metadata": {},
     "output_type": "execute_result"
    }
   ],
   "source": [
    "vectorized_data = count_vectorizer.fit_transform(clean)\n",
    "indexed_data = hstack((np.array(range(0,vectorized_data.shape[0]))[:,None], vectorized_data))\n",
    "\n",
    "\n",
    "vectorized_dataT = count_vectorizer.fit_transform(cleanTweetsT)\n",
    "indexed_dataT = hstack((np.array(range(0,vectorized_dataT.shape[0]))[:,None], vectorized_dataT))\n",
    "targetsT = dfTest[\"clase\"]\n",
    "indexed_dataT.shape"
   ]
  },
  {
   "cell_type": "markdown",
   "metadata": {},
   "source": [
    "### Separamos el dataset original"
   ]
  },
  {
   "cell_type": "code",
   "execution_count": 29,
   "metadata": {},
   "outputs": [],
   "source": [
    "from sklearn.model_selection import train_test_split\n",
    "targets = df[\"clase\"]\n",
    "data_train, data_test, targets_train, targets_test = train_test_split(indexed_data, targets, test_size=0.4, random_state=0)\n",
    "data_train_index = data_train[:,0]\n",
    "data_train = data_train[:,1:]\n",
    "data_test_index = data_test[:,0]\n",
    "data_test = data_test[:,1:]"
   ]
  },
  {
   "cell_type": "markdown",
   "metadata": {},
   "source": [
    "### Separamos el dataset modificado"
   ]
  },
  {
   "cell_type": "code",
   "execution_count": 13,
   "metadata": {},
   "outputs": [],
   "source": [
    "from sklearn.model_selection import train_test_split\n",
    "targetsT = dfTest[\"clase\"][0:11828]\n",
    "data_train2, data_test2, targets_train2, targets_test2 = train_test_split(indexed_dataT.tocsr()[0:11828,:], targetsT, test_size=0.4, random_state=0)\n",
    "data_train_index2 = data_train2[:,0]\n",
    "data_train2 = data_train2[:,1:]\n",
    "data_test_index2 = data_test2[:,0]\n",
    "data_test2 = data_test2[:,1:]"
   ]
  },
  {
   "cell_type": "markdown",
   "metadata": {},
   "source": [
    "## OneVsRestClassifier \n",
    "### SVC"
   ]
  },
  {
   "cell_type": "code",
   "execution_count": 38,
   "metadata": {},
   "outputs": [],
   "source": [
    "clf = OneVsRestClassifier(svm.SVC(probability=True, kernel='linear'))\n",
    "clf_output = clf.fit(data_train, targets_train)"
   ]
  },
  {
   "cell_type": "code",
   "execution_count": 39,
   "metadata": {},
   "outputs": [
    {
     "name": "stdout",
     "output_type": "stream",
     "text": [
      "test accuracy  0.99901 \n",
      "test accuracy  0.85165 \n"
     ]
    }
   ],
   "source": [
    "print(\"test accuracy  %.5f \"%(clf.score(data_train, targets_train)))\n",
    "print(\"test accuracy  %.5f \"%(clf.score(data_test, targets_test)))"
   ]
  },
  {
   "cell_type": "markdown",
   "metadata": {},
   "source": [
    "### MultinomialNB"
   ]
  },
  {
   "cell_type": "code",
   "execution_count": 44,
   "metadata": {},
   "outputs": [
    {
     "data": {
      "text/plain": [
       "OneVsRestClassifier(estimator=MultinomialNB(alpha=5, class_prior=None, fit_prior=True),\n",
       "          n_jobs=1)"
      ]
     },
     "execution_count": 44,
     "metadata": {},
     "output_type": "execute_result"
    }
   ],
   "source": [
    "from sklearn.naive_bayes import MultinomialNB\n",
    "clf2 = OneVsRestClassifier(MultinomialNB(alpha=5))\n",
    "clf2.fit(data_train, targets_train)"
   ]
  },
  {
   "cell_type": "code",
   "execution_count": 45,
   "metadata": {},
   "outputs": [
    {
     "data": {
      "text/plain": [
       "0.8193153000845309"
      ]
     },
     "execution_count": 45,
     "metadata": {},
     "output_type": "execute_result"
    }
   ],
   "source": [
    "clf2.score(data_test, targets_test)"
   ]
  },
  {
   "cell_type": "code",
   "execution_count": 46,
   "metadata": {},
   "outputs": [
    {
     "data": {
      "text/plain": [
       "0.9429336339298295"
      ]
     },
     "execution_count": 46,
     "metadata": {},
     "output_type": "execute_result"
    }
   ],
   "source": [
    "clf2.score(data_train, targets_train)"
   ]
  },
  {
   "cell_type": "markdown",
   "metadata": {},
   "source": [
    "## Probabilidad de pertenecer a una clase"
   ]
  },
  {
   "cell_type": "code",
   "execution_count": 365,
   "metadata": {},
   "outputs": [
    {
     "name": "stdout",
     "output_type": "stream",
     "text": [
      "['  Charlie Strong took the longhorn logos off his players helmets They have to earn it back httptcoHvNUJTSs Sport', 'niggers are so fucking mad just cause the shooter was a sand nigger kebab go take your anger out on them', '  I hate you sidelines hoes yall got so much courage ', 'paper ova pussy', 'Nah fam Miss Mexico won for leaving that dumb superficial contest thats runned by that racist old piece of white trash Donald trump', '        sweet dreams Alan', 'Only on the rd ep of AHSHotel is there a reason for all the guys looking alike Thought they were gonna be bros but no', 'Beautiful church converted to a book store  Maastricht Netherlands httpstcopGWLzlCvO', 'me complains about suburban white girlssuburban white girl youre a bitchme ok u literally just proved my point', 'We hate niggers we hate faggots and we hate spicskkk rally']\n"
     ]
    }
   ],
   "source": [
    "indx = np.random.randint(df.shape[0], size=10)\n",
    "rand = []\n",
    "clases = []\n",
    "for i in indx:\n",
    "    rand.append(clean[i])\n",
    "    clases.append(df['clase'][i])\n",
    "print(rand)"
   ]
  },
  {
   "cell_type": "code",
   "execution_count": 50,
   "metadata": {},
   "outputs": [
    {
     "data": {
      "text/plain": [
       "array([[0.34912587, 0.08431585, 0.56655828],\n",
       "       [0.05850134, 0.93834512, 0.00315354],\n",
       "       [0.06331167, 0.0654149 , 0.87127343],\n",
       "       [0.09800858, 0.03237168, 0.86961974],\n",
       "       [0.92178406, 0.07376009, 0.00445586],\n",
       "       [0.04341488, 0.92875155, 0.02783357],\n",
       "       [0.89918281, 0.07193299, 0.0288842 ],\n",
       "       [0.16501035, 0.25542668, 0.57956298],\n",
       "       [0.03842045, 0.93189858, 0.02968098],\n",
       "       [0.05633224, 0.93011001, 0.01355775]])"
      ]
     },
     "execution_count": 50,
     "metadata": {},
     "output_type": "execute_result"
    }
   ],
   "source": [
    "try_tweets = count_vectorizer.transform(rand)\n",
    "pred = clf.predict_proba(try_tweets)\n",
    "np.set_printoptions(suppress=True)\n",
    "pred"
   ]
  },
  {
   "cell_type": "code",
   "execution_count": 51,
   "metadata": {},
   "outputs": [],
   "source": [
    "targets_predic2= pd.Series(pred2)"
   ]
  },
  {
   "cell_type": "markdown",
   "metadata": {},
   "source": [
    "## Resultados obtenidos vs esperados"
   ]
  },
  {
   "cell_type": "code",
   "execution_count": 368,
   "metadata": {},
   "outputs": [
    {
     "data": {
      "image/png": "[encoded data removed]",
      "text/plain": [
       "<Figure size 720x360 with 1 Axes>"
      ]
     },
     "metadata": {
      "needs_background": "light"
     },
     "output_type": "display_data"
    }
   ],
   "source": [
    "\n",
    "plt.figure(figsize=(10, 5))\n",
    "\n",
    "targets_test.hist(alpha=0.4, color='b')\n",
    "targets_predic2.hist(alpha=0.5, color='r')\n",
    "plt.grid(b=None)\n",
    "plt.show()"
   ]
  },
  {
   "cell_type": "markdown",
   "metadata": {},
   "source": [
    "### Cross validation"
   ]
  },
  {
   "cell_type": "markdown",
   "metadata": {},
   "source": [
    "### RandomForestClassifier"
   ]
  },
  {
   "cell_type": "code",
   "execution_count": 50,
   "metadata": {},
   "outputs": [],
   "source": [
    "from sklearn.model_selection import cross_val_score\n",
    "from sklearn.model_selection import StratifiedKFold\n",
    "from sklearn.tree import DecisionTreeClassifier\n",
    "from sklearn.ensemble import RandomForestClassifier"
   ]
  },
  {
   "cell_type": "code",
   "execution_count": 25,
   "metadata": {},
   "outputs": [
    {
     "name": "stdout",
     "output_type": "stream",
     "text": [
      "[0.84757799 0.84098402 0.83439006]\n",
      "accuracy 0.841 (+/- 0.00538)\n"
     ]
    }
   ],
   "source": [
    "est = RandomForestClassifier(n_estimators=100)\n",
    "s = cross_val_score(est,indexed_data, targets, cv=KFold(3, shuffle=True), scoring=make_scorer(accuracy_score))\n",
    "print(s)\n",
    "print(\"accuracy %.3f (+/- %.5f)\"%(np.mean(s), np.std(s)))"
   ]
  },
  {
   "cell_type": "code",
   "execution_count": 46,
   "metadata": {},
   "outputs": [
    {
     "name": "stdout",
     "output_type": "stream",
     "text": [
      "[0.78453739 0.77946768 0.76806084 0.75918885 0.75158428 0.7756654\n",
      " 0.7617237  0.78200253 0.77439797 0.76649746 0.78426396 0.76649746\n",
      " 0.75507614 0.79441624 0.77791878]\n",
      "accuracy 0.772 (+/- 0.01174)\n"
     ]
    }
   ],
   "source": [
    "est = MultinomialNB(alpha=1.3)\n",
    "s = cross_val_score(est,indexed_data, targets, cv=KFold(15, shuffle=True), scoring=make_scorer(accuracy_score))\n",
    "print(s)\n",
    "print(\"accuracy %.3f (+/- %.5f)\"%(np.mean(s), np.std(s)))"
   ]
  },
  {
   "cell_type": "code",
   "execution_count": 51,
   "metadata": {},
   "outputs": [
    {
     "name": "stdout",
     "output_type": "stream",
     "text": [
      "[0.3262891  0.33896872 0.35418428 0.32882502 0.34742181 0.33981403\n",
      " 0.33474218 0.32967033 0.34404057 0.33756345]\n",
      "accuracy 0.338 (+/- 0.00832)\n"
     ]
    }
   ],
   "source": [
    "from sklearn.svm import SVC\n",
    "est = SVC()\n",
    "s = cross_val_score(est,indexed_data, targets, cv=KFold(10, shuffle=True), scoring=make_scorer(accuracy_score))\n",
    "print(s)\n",
    "print(\"accuracy %.3f (+/- %.5f)\"%(np.mean(s), np.std(s)))"
   ]
  },
  {
   "cell_type": "code",
   "execution_count": 275,
   "metadata": {},
   "outputs": [
    {
     "data": {
      "text/plain": [
       "SVC(C=1.0, cache_size=200, class_weight=None, coef0=0.0,\n",
       "  decision_function_shape='ovr', degree=3, gamma='auto', kernel='rbf',\n",
       "  max_iter=-1, probability=False, random_state=None, shrinking=True,\n",
       "  tol=0.001, verbose=False)"
      ]
     },
     "execution_count": 275,
     "metadata": {},
     "output_type": "execute_result"
    }
   ],
   "source": [
    "est = SVC()\n",
    "est.fit(data_train2,targets_train2)"
   ]
  },
  {
   "cell_type": "code",
   "execution_count": 54,
   "metadata": {},
   "outputs": [
    {
     "ename": "NameError",
     "evalue": "name 'data_train2' is not defined",
     "output_type": "error",
     "traceback": [
      "\u001b[0;31m---------------------------------------------------------------------------\u001b[0m",
      "\u001b[0;31mNameError\u001b[0m                                 Traceback (most recent call last)",
      "\u001b[0;32m<ipython-input-54-ccf14464753d>\u001b[0m in \u001b[0;36m<module>\u001b[0;34m()\u001b[0m\n\u001b[0;32m----> 1\u001b[0;31m \u001b[0mclf\u001b[0m\u001b[0;34m.\u001b[0m\u001b[0mscore\u001b[0m\u001b[0;34m(\u001b[0m\u001b[0mdata_train2\u001b[0m\u001b[0;34m,\u001b[0m\u001b[0mtargets_train2\u001b[0m\u001b[0;34m)\u001b[0m\u001b[0;34m\u001b[0m\u001b[0;34m\u001b[0m\u001b[0m\n\u001b[0m\u001b[1;32m      2\u001b[0m \u001b[0mclf\u001b[0m\u001b[0;34m.\u001b[0m\u001b[0mscore\u001b[0m\u001b[0;34m(\u001b[0m\u001b[0mdata_test2\u001b[0m\u001b[0;34m,\u001b[0m\u001b[0mtargets_test2\u001b[0m\u001b[0;34m)\u001b[0m\u001b[0;34m\u001b[0m\u001b[0;34m\u001b[0m\u001b[0m\n",
      "\u001b[0;31mNameError\u001b[0m: name 'data_train2' is not defined"
     ]
    }
   ],
   "source": [
    "clf.score(data_train2,targets_train2)\n",
    "clf.score(data_test2,targets_test2)"
   ]
  },
  {
   "cell_type": "code",
   "execution_count": 276,
   "metadata": {},
   "outputs": [],
   "source": [
    "indrand = list(np.random.randint(11829,19829,1000))"
   ]
  },
  {
   "cell_type": "code",
   "execution_count": 277,
   "metadata": {},
   "outputs": [
    {
     "data": {
      "text/plain": [
       "0.49"
      ]
     },
     "execution_count": 277,
     "metadata": {},
     "output_type": "execute_result"
    }
   ],
   "source": [
    "est.score(indexed_dataT.tocsr()[indrand,:-1], dfTest[\"clase\"][indrand])"
   ]
  },
  {
   "cell_type": "code",
   "execution_count": 232,
   "metadata": {},
   "outputs": [],
   "source": [
    "indrand = list(np.random.randint(11829,19829,1000))"
   ]
  },
  {
   "cell_type": "code",
   "execution_count": 233,
   "metadata": {},
   "outputs": [
    {
     "data": {
      "text/plain": [
       "0.525"
      ]
     },
     "execution_count": 233,
     "metadata": {},
     "output_type": "execute_result"
    }
   ],
   "source": [
    "est.score(indexed_dataT.tocsr()[indrand,:-1], dfTest[\"clase\"][indrand])"
   ]
  },
  {
   "cell_type": "markdown",
   "metadata": {},
   "source": [
    "## NAIVE BAYES"
   ]
  },
  {
   "cell_type": "code",
   "execution_count": 27,
   "metadata": {},
   "outputs": [],
   "source": [
    "from sklearn.metrics import classification_report\n",
    "from sklearn.naive_bayes import MultinomialNB\n",
    "from sklearn.model_selection import GridSearchCV\n",
    "from sklearn.ensemble import RandomForestClassifier\n",
    "\n",
    "text_clf=MultinomialNB(fit_prior=True,class_prior=[0.338,0.338,0.29])\n"
   ]
  },
  {
   "cell_type": "code",
   "execution_count": 226,
   "metadata": {},
   "outputs": [],
   "source": [
    "def tpr(est,X,y):\n",
    "    p = est.predict(X)\n",
    "    return np.mean (p[y==1] == y[y==1])\n",
    "\n",
    "def tnr(est,X,y):\n",
    "    p = est.predict(X)\n",
    "    return np.mean(p[y==0] == y[y==0])\n",
    "def nnr(est,X,y):\n",
    "    p = est.predict(X)\n",
    "    return np.mean(p[y==2] == y[y==2])"
   ]
  },
  {
   "cell_type": "code",
   "execution_count": 227,
   "metadata": {},
   "outputs": [
    {
     "name": "stdout",
     "output_type": "stream",
     "text": [
      "accuracy 0.9181 (+/- 0.02448)\n",
      "tpr      0.9153 (+/- 0.01411)\n",
      "tnr      0.8824 (+/- 0.01028)\n",
      "tnr      0.9649 (+/- 0.01404)\n"
     ]
    }
   ],
   "source": [
    "\n",
    "s = cross_val_score(text_clf,indexed_data,targets, cv=KFold(5,shuffle=True) , scoring=make_scorer(accuracy_score))\n",
    "print(\"accuracy %.4f (+/- %.5f)\"%(np.mean(s), np.std(s)))\n",
    "s = cross_val_score(text_clf,indexed_data,targets, cv=KFold(5,shuffle=True), scoring=tpr)\n",
    "print(\"tpr      %.4f (+/- %.5f)\"%(np.mean(s), np.std(s)))\n",
    "s = cross_val_score(text_clf,indexed_data,targets, cv=KFold(5,shuffle=True), scoring=tnr)\n",
    "print(\"tnr      %.4f (+/- %.5f)\"%(np.mean(s), np.std(s)))\n",
    "s = cross_val_score(text_clf,indexed_data,targets, cv=KFold(5,shuffle=True), scoring=nnr)\n",
    "print(\"tnr      %.4f (+/- %.5f)\"%(np.mean(s), np.std(s)))"
   ]
  },
  {
   "cell_type": "markdown",
   "metadata": {},
   "source": [
    "## RandomForest"
   ]
  },
  {
   "cell_type": "code",
   "execution_count": 229,
   "metadata": {},
   "outputs": [],
   "source": [
    "text_clf=RandomForestClassifier()"
   ]
  },
  {
   "cell_type": "code",
   "execution_count": 230,
   "metadata": {},
   "outputs": [
    {
     "name": "stdout",
     "output_type": "stream",
     "text": [
      "accuracy 0.9234 (+/- 0.01056)\n",
      "tpr      0.9050 (+/- 0.03011)\n",
      "tnr      0.8729 (+/- 0.02514)\n",
      "tnr      0.9713 (+/- 0.00780)\n"
     ]
    }
   ],
   "source": [
    "\n",
    "s = cross_val_score(text_clf,indexed_data,targets, cv=KFold(5,shuffle=True) , scoring=make_scorer(accuracy_score))\n",
    "print(\"accuracy %.4f (+/- %.5f)\"%(np.mean(s), np.std(s)))\n",
    "s = cross_val_score(text_clf,indexed_data,targets, cv=KFold(5,shuffle=True), scoring=tpr)\n",
    "print(\"tpr      %.4f (+/- %.5f)\"%(np.mean(s), np.std(s)))\n",
    "s = cross_val_score(text_clf,indexed_data,targets, cv=KFold(5,shuffle=True), scoring=tnr)\n",
    "print(\"tnr      %.4f (+/- %.5f)\"%(np.mean(s), np.std(s)))\n",
    "s = cross_val_score(text_clf,indexed_data,targets, cv=KFold(5,shuffle=True), scoring=nnr)\n",
    "print(\"tnr      %.4f (+/- %.5f)\"%(np.mean(s), np.std(s)))"
   ]
  },
  {
   "cell_type": "markdown",
   "metadata": {},
   "source": [
    "## Redes neuronales"
   ]
  },
  {
   "cell_type": "code",
   "execution_count": 52,
   "metadata": {},
   "outputs": [],
   "source": [
    "import tensorflow as tf\n",
    "from tensorflow import keras\n",
    "from tensorflow.keras.layers import Activation, Conv1D, Dense, Embedding, Flatten, Input, MaxPooling1D"
   ]
  },
  {
   "cell_type": "code",
   "execution_count": 53,
   "metadata": {},
   "outputs": [
    {
     "name": "stderr",
     "output_type": "stream",
     "text": [
      "WARNING: Logging before flag parsing goes to stderr.\n",
      "W0717 05:46:16.513685 140169610901312 deprecation.py:506] From /home/liceth/anaconda3/lib/python3.7/site-packages/tensorflow/python/ops/init_ops.py:1251: calling VarianceScaling.__init__ (from tensorflow.python.ops.init_ops) with dtype is deprecated and will be removed in a future version.\n",
      "Instructions for updating:\n",
      "Call initializer instance with the dtype argument instead of passing it to the constructor\n"
     ]
    }
   ],
   "source": [
    "from tensorflow.keras.models import Sequential\n",
    "from tensorflow.keras import layers\n",
    "input_dim = data_train.shape[1]  # Number of features\n",
    "\n",
    "model = Sequential()\n",
    "model.add(layers.Dense(10, input_dim=input_dim, activation='elu'))\n",
    "model.add(layers.Dense(1, activation='sigmoid'))"
   ]
  },
  {
   "cell_type": "code",
   "execution_count": 57,
   "metadata": {},
   "outputs": [
    {
     "name": "stderr",
     "output_type": "stream",
     "text": [
      "W0717 05:47:38.596102 140169610901312 deprecation.py:323] From /home/liceth/anaconda3/lib/python3.7/site-packages/tensorflow/python/ops/nn_impl.py:180: add_dispatch_support.<locals>.wrapper (from tensorflow.python.ops.array_ops) is deprecated and will be removed in a future version.\n",
      "Instructions for updating:\n",
      "Use tf.where in 2.0, which has the same broadcast rule as np.where\n"
     ]
    },
    {
     "name": "stdout",
     "output_type": "stream",
     "text": [
      "Model: \"sequential\"\n",
      "_________________________________________________________________\n",
      "Layer (type)                 Output Shape              Param #   \n",
      "=================================================================\n",
      "dense (Dense)                (None, 10)                961150    \n",
      "_________________________________________________________________\n",
      "dense_1 (Dense)              (None, 1)                 11        \n",
      "=================================================================\n",
      "Total params: 961,161\n",
      "Trainable params: 961,161\n",
      "Non-trainable params: 0\n",
      "_________________________________________________________________\n"
     ]
    }
   ],
   "source": [
    "model.compile(loss='binary_crossentropy', optimizer='adam', metrics=['accuracy'])\n",
    "model.summary()"
   ]
  },
  {
   "cell_type": "code",
   "execution_count": 58,
   "metadata": {},
   "outputs": [],
   "source": [
    "history = model.fit(data_train, targets_train,epochs=15,verbose=False,validation_data=(data_test, targets_test),batch_size=10)"
   ]
  },
  {
   "cell_type": "code",
   "execution_count": 59,
   "metadata": {},
   "outputs": [
    {
     "name": "stdout",
     "output_type": "stream",
     "text": [
      "Training Accuracy: 0.5111\n",
      "Testing Accuracy:  0.4303\n"
     ]
    }
   ],
   "source": [
    "loss, accuracy = model.evaluate(data_train, targets_train, verbose=False)\n",
    "print(\"Training Accuracy: {:.4f}\".format(accuracy))\n",
    "loss, accuracy = model.evaluate(data_test, targets_test, verbose=False)\n",
    "print(\"Testing Accuracy:  {:.4f}\".format(accuracy))"
   ]
  },
  {
   "cell_type": "code",
   "execution_count": 60,
   "metadata": {},
   "outputs": [],
   "source": [
    "import matplotlib.pyplot as plt\n",
    "plt.style.use('ggplot')\n",
    "\n",
    "def plot_history(history):\n",
    "    acc = history.history['acc']\n",
    "    val_acc = history.history['val_acc']\n",
    "    loss = history.history['loss']\n",
    "    val_loss = history.history['val_loss']\n",
    "    x = range(1, len(acc) + 1)\n",
    "\n",
    "    plt.figure(figsize=(12, 5))\n",
    "    plt.subplot(1, 2, 1)\n",
    "    plt.plot(x, acc, 'b', label='Training acc')\n",
    "    plt.plot(x, val_acc, 'r', label='Validation acc')\n",
    "    plt.title('Training and validation accuracy')\n",
    "    plt.legend()\n",
    "    plt.subplot(1, 2, 2)\n",
    "    plt.plot(x, loss, 'b', label='Training loss')\n",
    "    plt.plot(x, val_loss, 'r', label='Validation loss')\n",
    "    plt.title('Training and validation loss')\n",
    "    plt.legend()"
   ]
  },
  {
   "cell_type": "code",
   "execution_count": 61,
   "metadata": {},
   "outputs": [
    {
     "data": {
      "image/png": "[encoded data removed]",
      "text/plain": [
       "<Figure size 864x360 with 2 Axes>"
      ]
     },
     "metadata": {},
     "output_type": "display_data"
    }
   ],
   "source": [
    "plot_history(history)"
   ]
  },
  {
   "cell_type": "markdown",
   "metadata": {},
   "source": [
    "### Frecuencia de palabras para cada clase"
   ]
  },
  {
   "cell_type": "code",
   "execution_count": 302,
   "metadata": {},
   "outputs": [],
   "source": [
    "import collections\n",
    "def count_words(input):\n",
    "    cnt = collections.Counter()\n",
    "    for row in input:\n",
    "        for word in row:\n",
    "            cnt[word] += 1\n",
    "    return cnt"
   ]
  },
  {
   "cell_type": "code",
   "execution_count": 347,
   "metadata": {},
   "outputs": [],
   "source": [
    "wordshate=df[(df.clase == 0)][['preprocessed']].apply(count_words)['preprocessed'].most_common(20)\n",
    "wordsoff=df[(df.clase == 1)][['preprocessed']].apply(count_words)['preprocessed'].most_common(20)\n",
    "wordsneit=df[(df.clase == 2)][['preprocessed']].apply(count_words)['preprocessed'].most_common(20)"
   ]
  },
  {
   "cell_type": "code",
   "execution_count": 415,
   "metadata": {},
   "outputs": [],
   "source": [
    "w=np.array(wordshate)[:,0]\n",
    "c=np.array(wordshate)[:,1]\n",
    "\n",
    "w1=np.array(wordsoff)[:,0]\n",
    "c1=np.array(wordsoff)[:,1]\n",
    "\n",
    "w2=np.array(wordsneit)[:,0]\n",
    "c2=np.array(wordsneit)[:,1]"
   ]
  },
  {
   "cell_type": "code",
   "execution_count": 416,
   "metadata": {},
   "outputs": [],
   "source": [
    "d = pd.DataFrame({'word': w,\n",
    "                  'valor': [int(x) for x in c]})\n",
    "d1 = pd.DataFrame({'word': w1,\n",
    "                  'valor': [int(x) for x in c1]})\n",
    "d2 = pd.DataFrame({'word': w2,\n",
    "                  'valor': [int(x) for x in c2]})\n"
   ]
  },
  {
   "cell_type": "code",
   "execution_count": 451,
   "metadata": {},
   "outputs": [
    {
     "data": {
      "image/png": "[encoded data removed]",
      "text/plain": [
       "<Figure size 1080x720 with 1 Axes>"
      ]
     },
     "metadata": {},
     "output_type": "display_data"
    },
    {
     "data": {
      "image/png": "[encoded data removed]",
      "text/plain": [
       "<Figure size 1080x720 with 1 Axes>"
      ]
     },
     "metadata": {},
     "output_type": "display_data"
    },
    {
     "data": {
      "image/png": "[encoded data removed]",
      "text/plain": [
       "<Figure size 1080x720 with 1 Axes>"
      ]
     },
     "metadata": {},
     "output_type": "display_data"
    }
   ],
   "source": [
    "fig = plt.figure(figsize=(15,10))\n",
    "plt.subplot(3,1,1)\n",
    "fig.suptitle('Hate', fontsize=25)\n",
    "ax = sns.barplot(data=d, x= \"word\", y = \"valor\", palette= sns.light_palette(\"purple\",n_colors=20, reverse=False))\n",
    "ax.set(ylabel = 'count')\n",
    "plt.show()\n",
    "\n",
    "plt.figure(figsize=(15,10))\n",
    "plt.subplot(3,1,2)\n",
    "ax = sns.barplot(data=d1, x= \"word\", y = \"valor\",palette=sns.light_palette(\"navy\",n_colors=20, reverse=True))\n",
    "ax.set(ylabel = 'count')\n",
    "plt.title(\"Offensive\", fontsize=25)\n",
    "plt.show()\n",
    "\n",
    "plt.figure(figsize=(15,10))\n",
    "plt.subplot(3,1,3)\n",
    "ax = sns.barplot(data=d2, x= \"word\", y = \"valor\",palette=sns.light_palette(\"yellow\",n_colors=20, reverse=True))\n",
    "ax.set(ylabel = 'count')\n",
    "plt.title(\"Neither\", fontsize=25)\n",
    "plt.show()"
   ]
  }
 ],
 "metadata": {
  "kernelspec": {
   "display_name": "Python 3",
   "language": "python",
   "name": "python3"
  },
  "language_info": {
   "codemirror_mode": {
    "name": "ipython",
    "version": 3
   },
   "file_extension": ".py",
   "mimetype": "text/x-python",
   "name": "python",
   "nbconvert_exporter": "python",
   "pygments_lexer": "ipython3",
   "version": "3.7.2"
  }
 },
 "nbformat": 4,
 "nbformat_minor": 2
}
