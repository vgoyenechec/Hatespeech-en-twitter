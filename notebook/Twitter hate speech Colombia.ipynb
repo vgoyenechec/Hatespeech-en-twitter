{
 "cells": [
  {
   "cell_type": "markdown",
   "metadata": {
    "slideshow": {
     "slide_type": "skip"
    }
   },
   "source": [
    "<img src=\"../imgs/head.png\" style=\"width:1000px;\">\n"
   ]
  },
  {
   "cell_type": "markdown",
   "metadata": {
    "slideshow": {
     "slide_type": "slide"
    }
   },
   "source": [
    "# <center> Detección de Hate Speech en Twitter en Colombia</center>"
   ]
  },
  {
   "cell_type": "code",
   "execution_count": 2,
   "metadata": {
    "slideshow": {
     "slide_type": "skip"
    }
   },
   "outputs": [],
   "source": [
    "import numpy as np\n",
    "import pandas as pd\n",
    "import matplotlib.pyplot as plt\n",
    "from sklearn.model_selection import KFold\n",
    "from sklearn.metrics import *\n",
    "from sklearn import svm\n",
    "from sklearn.multiclass import OneVsRestClassifier\n",
    "import re, nltk\n",
    "from nltk.stem import WordNetLemmatizer\n",
    "from nltk.corpus import stopwords\n",
    "\n",
    "\n",
    "%matplotlib inline"
   ]
  },
  {
   "cell_type": "markdown",
   "metadata": {
    "slideshow": {
     "slide_type": "fragment"
    }
   },
   "source": [
    "## <center> Dataset </center>"
   ]
  },
  {
   "cell_type": "code",
   "execution_count": 3,
   "metadata": {
    "slideshow": {
     "slide_type": "skip"
    }
   },
   "outputs": [],
   "source": [
    "import pandas as pd\n",
    "import tweepy\n",
    "import jsonpickle\n",
    "def tweets_to_df(archivo):\n",
    "    \n",
    "    tweets = list(open(archivo, 'rt'))\n",
    "    \n",
    "    text = []\n",
    "    weekday = []\n",
    "    month = []\n",
    "    day = []\n",
    "    hour = []\n",
    "    hashtag = []\n",
    "    url = []\n",
    "    favorite = []\n",
    "    reply = []\n",
    "    retweet = []\n",
    "    follower = []\n",
    "    following = []\n",
    "    user = []\n",
    "    screen_name = []\n",
    "    idrtw=[]\n",
    "\n",
    "    for t in tweets:\n",
    "        t = jsonpickle.decode(t)\n",
    "        \n",
    "        # Text\n",
    "        text.append(t['full_text'])\n",
    "        \n",
    "        idrtw.append(t['id'])\n",
    "        \n",
    "        # Decompose date\n",
    "        date = t['created_at']\n",
    "        weekday.append(date.split(' ')[0])\n",
    "        month.append(date.split(' ')[1])\n",
    "        day.append(date.split(' ')[2])\n",
    "        \n",
    "        time = date.split(' ')[3].split(':')\n",
    "        hour.append(time[0]) \n",
    "        \n",
    "        # Has hashtag\n",
    "        if len(t['entities']['hashtags']) == 0:\n",
    "            hashtag.append(0)\n",
    "        else:\n",
    "            hashtag.append(1)\n",
    "            \n",
    "        # Has url\n",
    "        if len(t['entities']['urls']) == 0:\n",
    "            url.append(0)\n",
    "        else:\n",
    "            url.append(1)\n",
    "            \n",
    "        # Number of favs\n",
    "        favorite.append(t['favorite_count'])\n",
    "        \n",
    "        # Is reply?\n",
    "        if t['in_reply_to_status_id'] == None:\n",
    "            reply.append(0)\n",
    "        else:\n",
    "            reply.append(1)       \n",
    "        \n",
    "        # Retweets count\n",
    "        retweet.append(t['retweet_count'])\n",
    "        \n",
    "        # Followers number\n",
    "        follower.append(t['user']['followers_count'])\n",
    "        \n",
    "        # Following number\n",
    "        following.append(t['user']['friends_count'])\n",
    "        \n",
    "        # Add user\n",
    "        user.append(t['user']['name'])\n",
    "\n",
    "        # Add screen name\n",
    "        screen_name.append(t['user']['screen_name'])\n",
    "        \n",
    "    d = {'text': text,\n",
    "         'weekday': weekday,\n",
    "         'month' : month,\n",
    "         'day': day,\n",
    "         'hour' : hour,\n",
    "         'has_hashtag': hashtag,\n",
    "         'has_url': url,\n",
    "         'fav_count': favorite,\n",
    "         'is_reply': reply,\n",
    "         'retweet_count': retweet,\n",
    "         'followers': follower,\n",
    "         'following' : following,\n",
    "         'user': user,\n",
    "         'screen_name' : screen_name,\n",
    "         'id' : idrtw\n",
    "        }\n",
    "    \n",
    "    return pd.DataFrame(data = d)"
   ]
  },
  {
   "cell_type": "code",
   "execution_count": 4,
   "metadata": {
    "slideshow": {
     "slide_type": "skip"
    }
   },
   "outputs": [],
   "source": [
    "tweets1 = tweets_to_df('colombia1.json')\n",
    "tweets2 = tweets_to_df('colombia2.json')\n",
    "tweets3 = tweets_to_df('colombia3.json')\n",
    "tweets4 = tweets_to_df('colombia4.json')\n",
    "tweets5 = tweets_to_df('colombia5.json')\n",
    "tweets6 = tweets_to_df('colombia6.json')\n",
    "tweets7 = tweets_to_df('colombia7.json')\n",
    "tweets8 = tweets_to_df('colombia8.json')\n",
    "tweets9 = tweets_to_df('colombia9.json')\n",
    "tweets10 = tweets_to_df('colombia10.json')\n",
    "tweets11 = tweets_to_df('colombia11.json')\n",
    "tweets12 = tweets_to_df('colombia12.json')\n",
    "tweets13 = tweets_to_df('colombia13.json')\n",
    "tweets14 = tweets_to_df('colombia14.json')\n",
    "tweets15 = tweets_to_df('colombia15.json')\n",
    "tweets16 = tweets_to_df('colombia16.json')\n",
    "tweets17 = tweets_to_df('colombia17.json')\n",
    "tweets18 = tweets_to_df('colombia18.json')\n",
    "tweets19 = tweets_to_df('colombia19.json')"
   ]
  },
  {
   "cell_type": "code",
   "execution_count": 32,
   "metadata": {
    "slideshow": {
     "slide_type": "skip"
    }
   },
   "outputs": [],
   "source": [
    "PP = pd.concat([tweets1, tweets2, tweets3, tweets4, tweets5, tweets6, tweets7, tweets8, tweets9, tweets10, tweets11, tweets12, tweets13, tweets14, tweets15, tweets16, tweets17, tweets18, tweets19])"
   ]
  },
  {
   "cell_type": "code",
   "execution_count": 33,
   "metadata": {
    "slideshow": {
     "slide_type": "skip"
    }
   },
   "outputs": [],
   "source": [
    "tweets_df=pd.DataFrame({'text':PP['text'].unique()})\n",
    "df=pd.DataFrame(tweets_df.iloc[:,0])\n",
    "pd.set_option('display.max_colwidth', -1)"
   ]
  },
  {
   "cell_type": "code",
   "execution_count": 57,
   "metadata": {
    "slideshow": {
     "slide_type": "fragment"
    }
   },
   "outputs": [
    {
     "name": "stdout",
     "output_type": "stream",
     "text": [
      "(16044, 1)\n"
     ]
    },
    {
     "data": {
      "text/html": [
       "<div>\n",
       "<style scoped>\n",
       "    .dataframe tbody tr th:only-of-type {\n",
       "        vertical-align: middle;\n",
       "    }\n",
       "\n",
       "    .dataframe tbody tr th {\n",
       "        vertical-align: top;\n",
       "    }\n",
       "\n",
       "    .dataframe thead th {\n",
       "        text-align: right;\n",
       "    }\n",
       "</style>\n",
       "<table border=\"1\" class=\"dataframe\">\n",
       "  <thead>\n",
       "    <tr style=\"text-align: right;\">\n",
       "      <th></th>\n",
       "      <th>text</th>\n",
       "    </tr>\n",
       "  </thead>\n",
       "  <tbody>\n",
       "    <tr>\n",
       "      <th>2672</th>\n",
       "      <td>RT @meridius_maximo: @marianoig007 Después de El Putero #ElPuntero viene El Tigre Huevón jeje\\n#ElTigreVeron</td>\n",
       "    </tr>\n",
       "    <tr>\n",
       "      <th>7673</th>\n",
       "      <td>@MelukLeCuenta Si no logra ver la diferencia entre  Samuel, Petro y Peñalosa usted es un mamerto, Petroño graduado y con maestría.</td>\n",
       "    </tr>\n",
       "    <tr>\n",
       "      <th>10641</th>\n",
       "      <td>@Claudiashein Ay señora valla caminando de noche por Azcapotzalco  sin guardias sin lame culos y después hablamos</td>\n",
       "    </tr>\n",
       "    <tr>\n",
       "      <th>6380</th>\n",
       "      <td>RT @DonIzquierdo_: Voté por Santos por defender la paz y sin haber empuñado un arma nunca\\n\\nVoté por Petro por un mejor país y sin ser castr…</td>\n",
       "    </tr>\n",
       "    <tr>\n",
       "      <th>12648</th>\n",
       "      <td>@Shaankraa cerda</td>\n",
       "    </tr>\n",
       "  </tbody>\n",
       "</table>\n",
       "</div>"
      ],
      "text/plain": [
       "                                                                                                                                                 text\n",
       "2672   RT @meridius_maximo: @marianoig007 Después de El Putero #ElPuntero viene El Tigre Huevón jeje\\n#ElTigreVeron                                  \n",
       "7673   @MelukLeCuenta Si no logra ver la diferencia entre  Samuel, Petro y Peñalosa usted es un mamerto, Petroño graduado y con maestría.            \n",
       "10641  @Claudiashein Ay señora valla caminando de noche por Azcapotzalco  sin guardias sin lame culos y después hablamos                             \n",
       "6380   RT @DonIzquierdo_: Voté por Santos por defender la paz y sin haber empuñado un arma nunca\\n\\nVoté por Petro por un mejor país y sin ser castr…\n",
       "12648  @Shaankraa cerda                                                                                                                              "
      ]
     },
     "execution_count": 57,
     "metadata": {},
     "output_type": "execute_result"
    }
   ],
   "source": [
    "print(df.shape)\n",
    "df=df.reindex(np.random.permutation(df.index))\n",
    "df.head()"
   ]
  },
  {
   "cell_type": "markdown",
   "metadata": {
    "slideshow": {
     "slide_type": "slide"
    }
   },
   "source": [
    "## <center> Preprocesamiento de los datos </center>"
   ]
  },
  {
   "cell_type": "markdown",
   "metadata": {
    "slideshow": {
     "slide_type": "skip"
    }
   },
   "source": [
    "<img src=\"../imgs/preprocessing.png\" style=\"width:800px;\">"
   ]
  },
  {
   "cell_type": "markdown",
   "metadata": {
    "slideshow": {
     "slide_type": "fragment"
    }
   },
   "source": [
    "### Eliminación de ruido"
   ]
  },
  {
   "cell_type": "code",
   "execution_count": 58,
   "metadata": {
    "slideshow": {
     "slide_type": "fragment"
    }
   },
   "outputs": [],
   "source": [
    "import unicodedata\n",
    "def remove_accents(string, accents=('COMBINING ACUTE ACCENT', 'COMBINING GRAVE ACCENT')):\n",
    "    accents = set(map(unicodedata.lookup, accents))\n",
    "    chars = [c for c in unicodedata.normalize('NFD', string) if c not in accents]\n",
    "    return unicodedata.normalize('NFC', ''.join(chars))"
   ]
  },
  {
   "cell_type": "code",
   "execution_count": 59,
   "metadata": {
    "slideshow": {
     "slide_type": "skip"
    }
   },
   "outputs": [],
   "source": [
    "#noacentos=pd.Series([remove_accents(i) for i in df['text']])\n",
    "dfna=pd.DataFrame({'text':[remove_accents(i) for i in df['text']]})"
   ]
  },
  {
   "cell_type": "code",
   "execution_count": 60,
   "metadata": {
    "slideshow": {
     "slide_type": "skip"
    }
   },
   "outputs": [],
   "source": [
    "##preprocesamiento del dataset original\n",
    "clean1 = dfna[\"text\"].str.replace((r'@[\\w]*'), '')\n",
    "clean2 = clean1.str.replace(r'RT', '')\n",
    "clean = clean2.str.replace(r'[^a-zA-Z +^'']', '')\n"
   ]
  },
  {
   "cell_type": "markdown",
   "metadata": {
    "slideshow": {
     "slide_type": "slide"
    }
   },
   "source": [
    "### Tokenización"
   ]
  },
  {
   "cell_type": "markdown",
   "metadata": {
    "slideshow": {
     "slide_type": "fragment"
    }
   },
   "source": [
    "La tokenización es el paso en el que se divide cadenas de texto más largas en piezas más pequeñas o tokens. "
   ]
  },
  {
   "cell_type": "code",
   "execution_count": 61,
   "metadata": {
    "slideshow": {
     "slide_type": "fragment"
    }
   },
   "outputs": [],
   "source": [
    "tokens = [] \n",
    "for i in clean:\n",
    "    tokens.append(nltk.word_tokenize(i))\n",
    "    "
   ]
  },
  {
   "cell_type": "markdown",
   "metadata": {
    "slideshow": {
     "slide_type": "slide"
    }
   },
   "source": [
    "### Eliminación de stopwords"
   ]
  },
  {
   "cell_type": "code",
   "execution_count": 62,
   "metadata": {
    "slideshow": {
     "slide_type": "fragment"
    }
   },
   "outputs": [],
   "source": [
    "stop_words= set(stopwords.words('spanish'))\n",
    "wordnet_lemmatizer = WordNetLemmatizer()\n",
    "\n",
    "lower_case = [[x.casefold() for x in sublst] for sublst in tokens]\n",
    "cleanTweets = [[wordsub for wordsub in word if wordsub not in stop_words] for word in lower_case]\n"
   ]
  },
  {
   "cell_type": "markdown",
   "metadata": {
    "slideshow": {
     "slide_type": "slide"
    }
   },
   "source": [
    "### Clasificación no supervisada"
   ]
  },
  {
   "cell_type": "code",
   "execution_count": 63,
   "metadata": {
    "slideshow": {
     "slide_type": "skip"
    }
   },
   "outputs": [],
   "source": [
    "from scipy.sparse import hstack\n",
    "from sklearn.feature_extraction.text import CountVectorizer, TfidfVectorizer"
   ]
  },
  {
   "cell_type": "markdown",
   "metadata": {
    "slideshow": {
     "slide_type": "slide"
    }
   },
   "source": [
    "### TfidfVectorizer"
   ]
  },
  {
   "cell_type": "code",
   "execution_count": 65,
   "metadata": {
    "slideshow": {
     "slide_type": "fragment"
    }
   },
   "outputs": [],
   "source": [
    "tfidf_vectorizer = TfidfVectorizer(ngram_range=(1,2), stop_words=stop_words)\n",
    "vectorized_data = tfidf_vectorizer.fit_transform(clean)\n"
   ]
  },
  {
   "cell_type": "code",
   "execution_count": 66,
   "metadata": {
    "slideshow": {
     "slide_type": "fragment"
    }
   },
   "outputs": [],
   "source": [
    "from sklearn.cluster import KMeans \n",
    "kmeans = KMeans(n_clusters=3, n_init=10)  "
   ]
  },
  {
   "cell_type": "code",
   "execution_count": 67,
   "metadata": {
    "slideshow": {
     "slide_type": "fragment"
    }
   },
   "outputs": [
    {
     "data": {
      "text/plain": [
       "KMeans(algorithm='auto', copy_x=True, init='k-means++', max_iter=300,\n",
       "    n_clusters=3, n_init=10, n_jobs=1, precompute_distances='auto',\n",
       "    random_state=None, tol=0.0001, verbose=0)"
      ]
     },
     "execution_count": 67,
     "metadata": {},
     "output_type": "execute_result"
    }
   ],
   "source": [
    "kmeans.fit(vectorized_data) "
   ]
  },
  {
   "cell_type": "code",
   "execution_count": 68,
   "metadata": {
    "slideshow": {
     "slide_type": "fragment"
    }
   },
   "outputs": [
    {
     "data": {
      "text/plain": [
       "array([2, 2, 2, ..., 2, 2, 2], dtype=int32)"
      ]
     },
     "execution_count": 68,
     "metadata": {},
     "output_type": "execute_result"
    }
   ],
   "source": [
    "est=kmeans.predict(vectorized_data)"
   ]
  },
  {
   "cell_type": "code",
   "execution_count": 70,
   "metadata": {
    "slideshow": {
     "slide_type": "skip"
    }
   },
   "outputs": [],
   "source": [
    "nosup = pd.DataFrame({'cluster':est,'tweet':clean})"
   ]
  },
  {
   "cell_type": "code",
   "execution_count": 71,
   "metadata": {
    "slideshow": {
     "slide_type": "fragment"
    }
   },
   "outputs": [
    {
     "name": "stdout",
     "output_type": "stream",
     "text": [
      "0: 1505 \n",
      " 1: 660 \n",
      " 2: 13879\n"
     ]
    }
   ],
   "source": [
    "## CANTIDAD DE TWEETS POR CLUSTER\n",
    "print('0:', sum(1*(nosup['cluster']==0)), '\\n 1:', sum(1*(nosup['cluster']==1)),'\\n 2:', sum(1*(nosup['cluster']==2)))"
   ]
  },
  {
   "cell_type": "markdown",
   "metadata": {
    "slideshow": {
     "slide_type": "slide"
    }
   },
   "source": [
    "### CountVectorizer"
   ]
  },
  {
   "cell_type": "code",
   "execution_count": 64,
   "metadata": {
    "slideshow": {
     "slide_type": "fragment"
    }
   },
   "outputs": [],
   "source": [
    "count_vectorizer = CountVectorizer(ngram_range=(1,2))\n",
    "vectorized_data1 = count_vectorizer.fit_transform(clean)"
   ]
  },
  {
   "cell_type": "code",
   "execution_count": 72,
   "metadata": {
    "slideshow": {
     "slide_type": "fragment"
    }
   },
   "outputs": [
    {
     "data": {
      "text/plain": [
       "KMeans(algorithm='auto', copy_x=True, init='k-means++', max_iter=300,\n",
       "    n_clusters=3, n_init=10, n_jobs=1, precompute_distances='auto',\n",
       "    random_state=None, tol=0.0001, verbose=0)"
      ]
     },
     "execution_count": 72,
     "metadata": {},
     "output_type": "execute_result"
    }
   ],
   "source": [
    "kmeans.fit(vectorized_data1) "
   ]
  },
  {
   "cell_type": "code",
   "execution_count": 74,
   "metadata": {
    "slideshow": {
     "slide_type": "fragment"
    }
   },
   "outputs": [
    {
     "data": {
      "text/plain": [
       "array([1, 1, 1, ..., 1, 1, 0], dtype=int32)"
      ]
     },
     "execution_count": 74,
     "metadata": {},
     "output_type": "execute_result"
    }
   ],
   "source": [
    "est2=kmeans.predict(vectorized_data1)\n",
    "est2"
   ]
  },
  {
   "cell_type": "code",
   "execution_count": 76,
   "metadata": {
    "slideshow": {
     "slide_type": "fragment"
    }
   },
   "outputs": [
    {
     "name": "stdout",
     "output_type": "stream",
     "text": [
      "0: 2463 \n",
      " 1: 11014 \n",
      " 2: 2567\n"
     ]
    }
   ],
   "source": [
    "nosup2 = pd.DataFrame({'cluster':est2,'tweet':clean})\n",
    "print('0:', sum(1*(nosup2['cluster']==0)), '\\n 1:', sum(1*(nosup2['cluster']==1)),'\\n 2:', sum(1*(nosup2['cluster']==2)))"
   ]
  },
  {
   "cell_type": "code",
   "execution_count": 85,
   "metadata": {
    "slideshow": {
     "slide_type": "slide"
    }
   },
   "outputs": [
    {
     "data": {
      "text/html": [
       "<div>\n",
       "<style scoped>\n",
       "    .dataframe tbody tr th:only-of-type {\n",
       "        vertical-align: middle;\n",
       "    }\n",
       "\n",
       "    .dataframe tbody tr th {\n",
       "        vertical-align: top;\n",
       "    }\n",
       "\n",
       "    .dataframe thead th {\n",
       "        text-align: right;\n",
       "    }\n",
       "</style>\n",
       "<table border=\"1\" class=\"dataframe\">\n",
       "  <thead>\n",
       "    <tr style=\"text-align: right;\">\n",
       "      <th></th>\n",
       "      <th>cluster</th>\n",
       "      <th>tweet</th>\n",
       "    </tr>\n",
       "  </thead>\n",
       "  <tbody>\n",
       "    <tr>\n",
       "      <th>13</th>\n",
       "      <td>0</td>\n",
       "      <td>Lo que omite mencionar el hoy blanqueado corroncho italiano es que Pastrana no ha sido muy claro en las explicaciones de las circunstancias de su viaje en ese avion Obvio que no se le puede sealar de la nada pero tampoco que guarde tanto silencio httpstcoPQAMIyDfH</td>\n",
       "    </tr>\n",
       "    <tr>\n",
       "      <th>25</th>\n",
       "      <td>0</td>\n",
       "      <td>Cual es el miedo Si su papa es tan honorable pues que lo demuestre uds no pueden esconder los pecados del gobierno Santos detras del proceso de pazSi ud Martin es tan critico pues tambien opine sobre odebrecht o sobre los falsos positivoso se siente impedido para hacerlo httpstcoOWYFLxRNM</td>\n",
       "    </tr>\n",
       "    <tr>\n",
       "      <th>34</th>\n",
       "      <td>0</td>\n",
       "      <td>Metase  en lo Suyo que es el senado que de por si lo hace muy Mal de FotografoHay si como dijo DiomedesNo sea sapo lambon Mar</td>\n",
       "    </tr>\n",
       "    <tr>\n",
       "      <th>36</th>\n",
       "      <td>0</td>\n",
       "      <td>Esto es lo que va ir hacer para que llore mamerto de pacotilla httpstcocgccEoToR</td>\n",
       "    </tr>\n",
       "    <tr>\n",
       "      <th>41</th>\n",
       "      <td>0</td>\n",
       "      <td>Callese bobo hp que ut solo hace las cosas pa caerle bien a la gente y eso me dan ganas de vomitar todo el intestino que asco usted malparido estupido</td>\n",
       "    </tr>\n",
       "  </tbody>\n",
       "</table>\n",
       "</div>"
      ],
      "text/plain": [
       "    cluster  \\\n",
       "13  0         \n",
       "25  0         \n",
       "34  0         \n",
       "36  0         \n",
       "41  0         \n",
       "\n",
       "                                                                                                                                                                                                                                                                                                tweet  \n",
       "13  Lo que omite mencionar el hoy blanqueado corroncho italiano es que Pastrana no ha sido muy claro en las explicaciones de las circunstancias de su viaje en ese avion Obvio que no se le puede sealar de la nada pero tampoco que guarde tanto silencio httpstcoPQAMIyDfH                           \n",
       "25  Cual es el miedo Si su papa es tan honorable pues que lo demuestre uds no pueden esconder los pecados del gobierno Santos detras del proceso de pazSi ud Martin es tan critico pues tambien opine sobre odebrecht o sobre los falsos positivoso se siente impedido para hacerlo httpstcoOWYFLxRNM  \n",
       "34         Metase  en lo Suyo que es el senado que de por si lo hace muy Mal de FotografoHay si como dijo DiomedesNo sea sapo lambon Mar                                                                                                                                                               \n",
       "36     Esto es lo que va ir hacer para que llore mamerto de pacotilla httpstcocgccEoToR                                                                                                                                                                                                                \n",
       "41  Callese bobo hp que ut solo hace las cosas pa caerle bien a la gente y eso me dan ganas de vomitar todo el intestino que asco usted malparido estupido                                                                                                                                             "
      ]
     },
     "execution_count": 85,
     "metadata": {},
     "output_type": "execute_result"
    }
   ],
   "source": [
    "nosup2[nosup2['cluster']==0].head(5)"
   ]
  },
  {
   "cell_type": "code",
   "execution_count": 86,
   "metadata": {
    "slideshow": {
     "slide_type": "slide"
    }
   },
   "outputs": [
    {
     "data": {
      "text/html": [
       "<div>\n",
       "<style scoped>\n",
       "    .dataframe tbody tr th:only-of-type {\n",
       "        vertical-align: middle;\n",
       "    }\n",
       "\n",
       "    .dataframe tbody tr th {\n",
       "        vertical-align: top;\n",
       "    }\n",
       "\n",
       "    .dataframe thead th {\n",
       "        text-align: right;\n",
       "    }\n",
       "</style>\n",
       "<table border=\"1\" class=\"dataframe\">\n",
       "  <thead>\n",
       "    <tr style=\"text-align: right;\">\n",
       "      <th></th>\n",
       "      <th>cluster</th>\n",
       "      <th>tweet</th>\n",
       "    </tr>\n",
       "  </thead>\n",
       "  <tbody>\n",
       "    <tr>\n",
       "      <th>0</th>\n",
       "      <td>1</td>\n",
       "      <td>Despues de El Putero ElPuntero viene El Tigre Huevon jejeElTigreVeron</td>\n",
       "    </tr>\n",
       "    <tr>\n",
       "      <th>1</th>\n",
       "      <td>1</td>\n",
       "      <td>Si no logra ver la diferencia entre  Samuel Petro y Pealosa usted es un mamerto Petroo graduado y con maestria</td>\n",
       "    </tr>\n",
       "    <tr>\n",
       "      <th>2</th>\n",
       "      <td>1</td>\n",
       "      <td>Ay seora valla caminando de noche por Azcapotzalco  sin guardias sin lame culos y despues hablamos</td>\n",
       "    </tr>\n",
       "    <tr>\n",
       "      <th>3</th>\n",
       "      <td>1</td>\n",
       "      <td>Vote por Santos por defender la paz y sin haber empuado un arma nuncaVote por Petro por un mejor pais y sin ser castr</td>\n",
       "    </tr>\n",
       "    <tr>\n",
       "      <th>4</th>\n",
       "      <td>1</td>\n",
       "      <td>cerda</td>\n",
       "    </tr>\n",
       "  </tbody>\n",
       "</table>\n",
       "</div>"
      ],
      "text/plain": [
       "   cluster  \\\n",
       "0  1         \n",
       "1  1         \n",
       "2  1         \n",
       "3  1         \n",
       "4  1         \n",
       "\n",
       "                                                                                                                     tweet  \n",
       "0     Despues de El Putero ElPuntero viene El Tigre Huevon jejeElTigreVeron                                                 \n",
       "1   Si no logra ver la diferencia entre  Samuel Petro y Pealosa usted es un mamerto Petroo graduado y con maestria          \n",
       "2   Ay seora valla caminando de noche por Azcapotzalco  sin guardias sin lame culos y despues hablamos                      \n",
       "3    Vote por Santos por defender la paz y sin haber empuado un arma nuncaVote por Petro por un mejor pais y sin ser castr  \n",
       "4   cerda                                                                                                                   "
      ]
     },
     "execution_count": 86,
     "metadata": {},
     "output_type": "execute_result"
    }
   ],
   "source": [
    "nosup2[nosup2['cluster']==1].head(5)"
   ]
  },
  {
   "cell_type": "code",
   "execution_count": 87,
   "metadata": {
    "slideshow": {
     "slide_type": "slide"
    }
   },
   "outputs": [
    {
     "data": {
      "text/html": [
       "<div>\n",
       "<style scoped>\n",
       "    .dataframe tbody tr th:only-of-type {\n",
       "        vertical-align: middle;\n",
       "    }\n",
       "\n",
       "    .dataframe tbody tr th {\n",
       "        vertical-align: top;\n",
       "    }\n",
       "\n",
       "    .dataframe thead th {\n",
       "        text-align: right;\n",
       "    }\n",
       "</style>\n",
       "<table border=\"1\" class=\"dataframe\">\n",
       "  <thead>\n",
       "    <tr style=\"text-align: right;\">\n",
       "      <th></th>\n",
       "      <th>cluster</th>\n",
       "      <th>tweet</th>\n",
       "    </tr>\n",
       "  </thead>\n",
       "  <tbody>\n",
       "    <tr>\n",
       "      <th>5</th>\n",
       "      <td>2</td>\n",
       "      <td>Guerra civil de que bobo si hay algo cobarde es un uribestia tiran la piedra esconden la mano amenaza</td>\n",
       "    </tr>\n",
       "    <tr>\n",
       "      <th>8</th>\n",
       "      <td>2</td>\n",
       "      <td>Ajaaaa paisa como la bandeja que venden en la esquina de su casa en Bosa perdedor malparido  httpstcouXTBZuExD</td>\n",
       "    </tr>\n",
       "    <tr>\n",
       "      <th>11</th>\n",
       "      <td>2</td>\n",
       "      <td>Cry es el nuevo disco de CAS Dios que emocion tan brava poderlo ver maana y el miercoles Seguro mas de una lagrima se asomara por mi cara La vida habla y uno le responde con musica Fokiu men gonorrea</td>\n",
       "    </tr>\n",
       "    <tr>\n",
       "      <th>12</th>\n",
       "      <td>2</td>\n",
       "      <td>Quizas porque es tan inutil como vos para este pais doa Paloma Un violador condenado a  aos no suele estar vivo para rehacer su dao entre tanto su politiqueria de circo busca solo ingenuos votos de su ejercito de idiotas utiles</td>\n",
       "    </tr>\n",
       "    <tr>\n",
       "      <th>16</th>\n",
       "      <td>2</td>\n",
       "      <td>Hoy en mensajes amables de amigos sinceros Es que no debiste dejar de ser una malparida</td>\n",
       "    </tr>\n",
       "  </tbody>\n",
       "</table>\n",
       "</div>"
      ],
      "text/plain": [
       "    cluster  \\\n",
       "5   2         \n",
       "8   2         \n",
       "11  2         \n",
       "12  2         \n",
       "16  2         \n",
       "\n",
       "                                                                                                                                                                                                                                   tweet  \n",
       "5      Guerra civil de que bobo si hay algo cobarde es un uribestia tiran la piedra esconden la mano amenaza                                                                                                                              \n",
       "8    Ajaaaa paisa como la bandeja que venden en la esquina de su casa en Bosa perdedor malparido  httpstcouXTBZuExD                                                                                                                       \n",
       "11  Cry es el nuevo disco de CAS Dios que emocion tan brava poderlo ver maana y el miercoles Seguro mas de una lagrima se asomara por mi cara La vida habla y uno le responde con musica Fokiu men gonorrea                               \n",
       "12   Quizas porque es tan inutil como vos para este pais doa Paloma Un violador condenado a  aos no suele estar vivo para rehacer su dao entre tanto su politiqueria de circo busca solo ingenuos votos de su ejercito de idiotas utiles  \n",
       "16  Hoy en mensajes amables de amigos sinceros Es que no debiste dejar de ser una malparida                                                                                                                                               "
      ]
     },
     "execution_count": 87,
     "metadata": {},
     "output_type": "execute_result"
    }
   ],
   "source": [
    "nosup2[nosup2['cluster']==2].head(5)"
   ]
  },
  {
   "cell_type": "code",
   "execution_count": 88,
   "metadata": {},
   "outputs": [
    {
     "data": {
      "text/plain": [
       "(16044, 143023)"
      ]
     },
     "execution_count": 88,
     "metadata": {},
     "output_type": "execute_result"
    }
   ],
   "source": [
    "indexed_dataT = hstack((np.array(range(0,vectorized_data1.shape[0]))[:,None], vectorized_data1))\n",
    "indexed_dataT.shape"
   ]
  },
  {
   "cell_type": "code",
   "execution_count": null,
   "metadata": {},
   "outputs": [],
   "source": []
  }
 ],
 "metadata": {
  "celltoolbar": "Slideshow",
  "kernelspec": {
   "display_name": "Python 3",
   "language": "python",
   "name": "python3"
  }
 },
 "nbformat": 4,
 "nbformat_minor": 2
}
